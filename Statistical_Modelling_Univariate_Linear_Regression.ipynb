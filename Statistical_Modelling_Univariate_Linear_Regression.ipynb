{
  "nbformat": 4,
  "nbformat_minor": 0,
  "metadata": {
    "colab": {
      "name": "Statistical_Modelling_Univariate_Linear_Regression.ipynb",
      "provenance": [],
      "collapsed_sections": [],
      "authorship_tag": "ABX9TyN2dC3KgrGQjnbfUpD212CT",
      "include_colab_link": true
    },
    "kernelspec": {
      "name": "python3",
      "display_name": "Python 3"
    },
    "language_info": {
      "name": "python"
    }
  },
  "cells": [
    {
      "cell_type": "markdown",
      "metadata": {
        "id": "view-in-github",
        "colab_type": "text"
      },
      "source": [
        "<a href=\"https://colab.research.google.com/github/shubhangilore/fds/blob/main/Statistical_Modelling_Univariate_Linear_Regression.ipynb\" target=\"_parent\"><img src=\"https://colab.research.google.com/assets/colab-badge.svg\" alt=\"Open In Colab\"/></a>"
      ]
    },
    {
      "cell_type": "markdown",
      "metadata": {
        "id": "uPXQs5Ls4Zyf"
      },
      "source": [
        "Linear Regression in Machine Learning¶\n",
        "\n",
        "Linear regression is one of the easiest and most popular Machine Learning algorithms. It is a statistical method that is used for predictive analysis. Linear regression makes predictions for continuous/real or numeric variables such as sales, salary, age, product price, etc.\n",
        "\n",
        "Linear regression algorithm shows a linear relationship between a dependent (y) and one or more independent (y) variables, hence called as linear regression. Since linear regression shows the linear relationship, which means it finds how the value of the dependent variable is changing according to the value of the independent variable.\n",
        "\n",
        "The linear regression model provides a sloped straight line representing the relationship between the variables. Consider the below image:\n",
        "\n",
        "linear-regression-in-machine-learning.png\n",
        "\n",
        "Mathematically, we can represent a linear regression as:\n",
        "\n",
        "y= a0+a1x+ ε\n",
        "\n",
        "Here,\n",
        "\n",
        "Y= Dependent Variable (Target Variable)\n",
        "\n",
        "X= Independent Variable (predictor Variable)\n",
        "\n",
        "a0= intercept of the line (Gives an additional degree of freedom)\n",
        "\n",
        "a1 = Linear regression coefficient (scale factor to each input value). ε = random error\n",
        "\n",
        "The values for x and y variables are training datasets for Linear Regression model representation.\n",
        "\n",
        "Univariate Linear Regression:\n",
        "Univariate linear regression focuses on determining relationship between one independent (explanatory variable) variable and one dependent variable. Regression comes handy mainly in situation where the relationship between two features is not obvious to the naked eye. For example, it could be used to study how the terrorist attacks frequency affects the economic growth of countries around the world or the role of unemployment in a country in the bankruptcy of the government.\n",
        "\n",
        "Univariate data is the type of data in which the result depends only on one variable. For instance, dataset of points on a line can be considered as a univariate data where abscissa can be considered as input feature and ordinate can be considered as output/result.\n",
        "\n",
        "Python has methods for finding a relationship between data-points and to draw a line of linear regression. We will show you how to use these methods instead of going through the mathematic formula.\n",
        "\n",
        "For univariate linear regression, there is only one input feature vector. The line of regression will be in the form of:\n",
        "\n",
        "Y = b0 + b1 * X Where,\n",
        "\n",
        "b0 and b1 are the coefficients of regression.\n",
        "\n",
        "Hence, it is being tried to predict regression coefficients b0 and b1 by training a model.\n",
        "\n",
        "Example 1\n",
        "\n",
        "In the example below, the x-axis represents age, and the y-axis represents speed. We have registered the age and speed of 13 cars as they were passing a tollbooth. Let us see if the data we collected could be used in a linear regression:\n",
        "\n"
      ]
    },
    {
      "cell_type": "code",
      "metadata": {
        "colab": {
          "base_uri": "https://localhost:8080/",
          "height": 265
        },
        "id": "ySOU_D-m4Rl8",
        "outputId": "2a255ffa-e254-42e1-da82-bf59e1e19950"
      },
      "source": [
        "#Start by drawing a scatter plot:\n",
        " \n",
        "import matplotlib.pyplot as plt\n",
        " \n",
        "x = [5,7,8,7,2,17,2,9,4,11,12,9,6]\n",
        "y = [99,86,87,88,111,86,103,87,94,78,77,85,86]\n",
        " \n",
        "plt.scatter(x, y)\n",
        "plt.show()\n"
      ],
      "execution_count": 1,
      "outputs": [
        {
          "output_type": "display_data",
          "data": {
            "image/png": "[encoded data removed]",
            "text/plain": [
              "<Figure size 432x288 with 1 Axes>"
            ]
          },
          "metadata": {
            "tags": [],
            "needs_background": "light"
          }
        }
      ]
    },
    {
      "cell_type": "code",
      "metadata": {
        "colab": {
          "base_uri": "https://localhost:8080/",
          "height": 265
        },
        "id": "oLNfPB904wJM",
        "outputId": "99fd0cdf-39a9-4e5d-cafd-bcd0fabf5846"
      },
      "source": [
        "#Import scipy and draw the line of Linear Regression:\n",
        "\n",
        "import matplotlib.pyplot as plt\n",
        "from scipy import stats\n",
        "\n",
        "x = [5,7,8,7,2,17,2,9,4,11,12,9,6]\n",
        "y = [99,86,87,88,111,86,103,87,94,78,77,85,86]\n",
        "\n",
        "slope, intercept, r, p, std_err = stats.linregress(x, y)\n",
        "\n",
        "def myfunc(x):\n",
        "  return slope * x + intercept\n",
        "\n",
        "mymodel = list(map(myfunc, x))\n",
        "\n",
        "plt.scatter(x, y)\n",
        "plt.plot(x, mymodel)\n",
        "plt.show()\n"
      ],
      "execution_count": 2,
      "outputs": [
        {
          "output_type": "display_data",
          "data": {
            "image/png": "[encoded data removed]",
            "text/plain": [
              "<Figure size 432x288 with 1 Axes>"
            ]
          },
          "metadata": {
            "tags": [],
            "needs_background": "light"
          }
        }
      ]
    },
    {
      "cell_type": "markdown",
      "metadata": {
        "id": "8yjyX_Ke40u1"
      },
      "source": [
        "R for Relationship\n",
        "\n",
        "It is important to know how the relationship between the values of the x-axis and the values of the y-axis is, if there are no relationship the linear regression can not be used to predict anything.\n",
        "\n",
        "This relationship - the coefficient of correlation - is called r.\n",
        "\n",
        "The r value ranges from -1 to 1, where 0 means no relationship, and 1 (and -1) means 100% related.\n",
        "\n",
        "Python and the Scipy module will compute this value for you, all you have to do is feed it with the x and y values.\n",
        "\n"
      ]
    },
    {
      "cell_type": "code",
      "metadata": {
        "colab": {
          "base_uri": "https://localhost:8080/"
        },
        "id": "aSCw36rq41x3",
        "outputId": "5eb86a81-c497-4e23-e1ef-fc10025c1ca7"
      },
      "source": [
        "from scipy import stats\n",
        "\n",
        "x = [5,7,8,7,2,17,2,9,4,11,12,9,6]\n",
        "y = [99,86,87,88,111,86,103,87,94,78,77,85,86]\n",
        "\n",
        "slope, intercept, r, p, std_err = stats.linregress(x, y)\n",
        "\n",
        "print(r)\n",
        "\n",
        "#Note: The result -0.76 shows that there is a relationship, not perfect, but it indicates that we could use linear regression in future predictions.\n"
      ],
      "execution_count": 3,
      "outputs": [
        {
          "output_type": "stream",
          "text": [
            "-0.758591524376155\n"
          ],
          "name": "stdout"
        }
      ]
    },
    {
      "cell_type": "markdown",
      "metadata": {
        "id": "HUujkf7-475u"
      },
      "source": [
        "Predict Future Values\n",
        "\n",
        "Now we can use the information we have gathered to predict future values.\n",
        "\n",
        "Example: Let us try to predict the speed of a 10 years old car.\n",
        "\n",
        "To do so, we need the same myfunc() function from the example above:\n",
        "\n"
      ]
    },
    {
      "cell_type": "code",
      "metadata": {
        "colab": {
          "base_uri": "https://localhost:8080/"
        },
        "id": "i-nqTf2O49Ku",
        "outputId": "802426b9-b82d-4e75-c649-40c3b7c9e8f5"
      },
      "source": [
        "#Predict the speed of a 10 years old car:\n",
        "\n",
        "from scipy import stats\n",
        "\n",
        "x = [5,7,8,7,2,17,2,9,4,11,12,9,6]\n",
        "y = [99,86,87,88,111,86,103,87,94,78,77,85,86]\n",
        "\n",
        "slope, intercept, r, p, std_err = stats.linregress(x, y)\n",
        "\n",
        "def myfunc(x):\n",
        "  return slope * x + intercept\n",
        "\n",
        "speed = myfunc(10)\n",
        "\n",
        "print(speed)\n"
      ],
      "execution_count": 4,
      "outputs": [
        {
          "output_type": "stream",
          "text": [
            "85.59308314937454\n"
          ],
          "name": "stdout"
        }
      ]
    },
    {
      "cell_type": "markdown",
      "metadata": {
        "id": "Df-YoGPA8OcG"
      },
      "source": [
        "This example shows relationship between 2 varibales called as \"Input\" and \"Output\"\n",
        "\n"
      ]
    },
    {
      "cell_type": "code",
      "metadata": {
        "colab": {
          "base_uri": "https://localhost:8080/",
          "height": 371
        },
        "id": "byKXX1Qu8YX6",
        "outputId": "90dbdefb-a989-4f2a-8ec7-57312931b5a5"
      },
      "source": [
        "import numpy as np\n",
        "import pandas as pd\n",
        "import matplotlib.pyplot as plt\n",
        "import seaborn as sns\n",
        "from sklearn import datasets, linear_model\n",
        "from sklearn.metrics import mean_squared_error, r2_score\n",
        "from sklearn.model_selection import train_test_split\n",
        "\n",
        "df = pd.read_csv('/content/Book1.csv')\n",
        "print(df.head())\n",
        "\n",
        "x3=df['input'].values.reshape((-1, 1))\n",
        "y3=df['output'].values.reshape((-1, 1))\n",
        "\n",
        "plt.scatter(x3, y3)\n",
        "plt.show()\n"
      ],
      "execution_count": 5,
      "outputs": [
        {
          "output_type": "stream",
          "text": [
            "   Unnamed: 0      input     output\n",
            "0         0.0  32.502345  31.707006\n",
            "1         1.0  53.426804  68.777596\n",
            "2         2.0  61.530538  62.562382\n",
            "3         3.0  47.475640  71.546632\n",
            "4         4.0  59.813208  87.230925\n"
          ],
          "name": "stdout"
        },
        {
          "output_type": "display_data",
          "data": {
            "image/png": "[encoded data removed]",
            "text/plain": [
              "<Figure size 432x288 with 1 Axes>"
            ]
          },
          "metadata": {
            "tags": [],
            "needs_background": "light"
          }
        }
      ]
    }
  ]
}