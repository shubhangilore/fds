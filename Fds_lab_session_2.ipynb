{
  "nbformat": 4,
  "nbformat_minor": 0,
  "metadata": {
    "colab": {
      "name": "Fds lab session 2",
      "provenance": [],
      "collapsed_sections": [],
      "mount_file_id": "1uD4uzKdY1hoJTB-iaJWHXGVojHaqL8L5",
      "authorship_tag": "ABX9TyM+B0itRjQRkO+P0i9U5PUg",
      "include_colab_link": true
    },
    "kernelspec": {
      "name": "python3",
      "display_name": "Python 3"
    }
  },
  "cells": [
    {
      "cell_type": "markdown",
      "metadata": {
        "id": "view-in-github",
        "colab_type": "text"
      },
      "source": [
        "<a href=\"https://colab.research.google.com/github/shubhangilore/fds/blob/main/Fds_lab_session_2.ipynb\" target=\"_parent\"><img src=\"https://colab.research.google.com/assets/colab-badge.svg\" alt=\"Open In Colab\"/></a>"
      ]
    },
    {
      "cell_type": "code",
      "metadata": {
        "colab": {
          "base_uri": "https://localhost:8080/"
        },
        "id": "ZVrOiVlBw9q0",
        "outputId": "5e2a7310-1953-4f05-ea1f-3e3a34208355"
      },
      "source": [
        "#Mounting Google Drive\r\n",
        "%cd ..\r\n",
        "from google.colab import drive\r\n",
        "drive.mount('/content/gdrive')\r\n"
      ],
      "execution_count": 2,
      "outputs": [
        {
          "output_type": "stream",
          "text": [
            "/\n",
            "Mounted at /content/gdrive\n"
          ],
          "name": "stdout"
        }
      ]
    },
    {
      "cell_type": "code",
      "metadata": {
        "id": "UOKbXT3xzEeI"
      },
      "source": [
        "products=pd.read_csv('/content/drive/MyDrive/products.csv')"
      ],
      "execution_count": 7,
      "outputs": []
    },
    {
      "cell_type": "code",
      "metadata": {
        "colab": {
          "base_uri": "https://localhost:8080/"
        },
        "id": "2p3hhIFuzc4E",
        "outputId": "b827dcb7-f7ff-43c9-ce4a-87803baf63c9"
      },
      "source": [
        "products['CostPrice'].mean()"
      ],
      "execution_count": 8,
      "outputs": [
        {
          "output_type": "execute_result",
          "data": {
            "text/plain": [
              "94.2"
            ]
          },
          "metadata": {
            "tags": []
          },
          "execution_count": 8
        }
      ]
    },
    {
      "cell_type": "code",
      "metadata": {
        "colab": {
          "base_uri": "https://localhost:8080/",
          "height": 204
        },
        "id": "EiBsMNVrzrf4",
        "outputId": "6d661faa-0833-4979-81ef-57631da86aa1"
      },
      "source": [
        "products.head()"
      ],
      "execution_count": 9,
      "outputs": [
        {
          "output_type": "execute_result",
          "data": {
            "text/html": [
              "<div>\n",
              "<style scoped>\n",
              "    .dataframe tbody tr th:only-of-type {\n",
              "        vertical-align: middle;\n",
              "    }\n",
              "\n",
              "    .dataframe tbody tr th {\n",
              "        vertical-align: top;\n",
              "    }\n",
              "\n",
              "    .dataframe thead th {\n",
              "        text-align: right;\n",
              "    }\n",
              "</style>\n",
              "<table border=\"1\" class=\"dataframe\">\n",
              "  <thead>\n",
              "    <tr style=\"text-align: right;\">\n",
              "      <th></th>\n",
              "      <th>ï»¿ProductId</th>\n",
              "      <th>CostPrice</th>\n",
              "      <th>SellingPrice</th>\n",
              "    </tr>\n",
              "  </thead>\n",
              "  <tbody>\n",
              "    <tr>\n",
              "      <th>0</th>\n",
              "      <td>AA</td>\n",
              "      <td>60</td>\n",
              "      <td>135</td>\n",
              "    </tr>\n",
              "    <tr>\n",
              "      <th>1</th>\n",
              "      <td>BB</td>\n",
              "      <td>43</td>\n",
              "      <td>121</td>\n",
              "    </tr>\n",
              "    <tr>\n",
              "      <th>2</th>\n",
              "      <td>CC</td>\n",
              "      <td>78</td>\n",
              "      <td>150</td>\n",
              "    </tr>\n",
              "    <tr>\n",
              "      <th>3</th>\n",
              "      <td>DD</td>\n",
              "      <td>65</td>\n",
              "      <td>121</td>\n",
              "    </tr>\n",
              "    <tr>\n",
              "      <th>4</th>\n",
              "      <td>EE</td>\n",
              "      <td>50</td>\n",
              "      <td>132</td>\n",
              "    </tr>\n",
              "  </tbody>\n",
              "</table>\n",
              "</div>"
            ],
            "text/plain": [
              "  ï»¿ProductId  CostPrice  SellingPrice\n",
              "0           AA         60           135\n",
              "1           BB         43           121\n",
              "2           CC         78           150\n",
              "3           DD         65           121\n",
              "4           EE         50           132"
            ]
          },
          "metadata": {
            "tags": []
          },
          "execution_count": 9
        }
      ]
    },
    {
      "cell_type": "code",
      "metadata": {
        "id": "5NZRxEYQyXWV"
      },
      "source": [
        "import numpy as np\r\n",
        "import pandas as pd\r\n",
        "from scipy import stats\r\n",
        "import seaborn as sns\r\n"
      ],
      "execution_count": 13,
      "outputs": []
    },
    {
      "cell_type": "code",
      "metadata": {
        "colab": {
          "base_uri": "https://localhost:8080/"
        },
        "id": "4T9PM60k1VDe",
        "outputId": "1b5020d1-b7cd-40c6-8b48-99b026ac5a04"
      },
      "source": [
        "#Genarting random weights\r\n",
        "weights=[i for i in range(10,20)]\r\n",
        "#Calculate weighted average\r\n",
        "np.average(products['CostPrice'],weights=weights)"
      ],
      "execution_count": 14,
      "outputs": [
        {
          "output_type": "execute_result",
          "data": {
            "text/plain": [
              "99.6896551724138"
            ]
          },
          "metadata": {
            "tags": []
          },
          "execution_count": 14
        }
      ]
    },
    {
      "cell_type": "code",
      "metadata": {
        "colab": {
          "base_uri": "https://localhost:8080/"
        },
        "id": "ALxwbA1I0fzA",
        "outputId": "944d98ef-6953-45bb-ad8a-a4b1758c77b8"
      },
      "source": [
        " \r\n",
        "stats.trim_mean(products['CostPrice'],0.1)"
      ],
      "execution_count": 12,
      "outputs": [
        {
          "output_type": "execute_result",
          "data": {
            "text/plain": [
              "93.625"
            ]
          },
          "metadata": {
            "tags": []
          },
          "execution_count": 12
        }
      ]
    },
    {
      "cell_type": "code",
      "metadata": {
        "id": "Dq2p-Ebxycxa"
      },
      "source": [
        "\r\n"
      ],
      "execution_count": 5,
      "outputs": []
    }
  ]
}