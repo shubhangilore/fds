{
  "nbformat": 4,
  "nbformat_minor": 0,
  "metadata": {
    "colab": {
      "name": "FDS.ipynb",
      "provenance": [],
      "toc_visible": true,
      "mount_file_id": "1TZBMAGRDilUkWHrNP9TtGyW_W5C-5Fg7",
      "authorship_tag": "ABX9TyNehpo5Xbt9jp/tuB5qU+0G",
      "include_colab_link": true
    },
    "kernelspec": {
      "name": "python3",
      "display_name": "Python 3"
    }
  },
  "cells": [
    {
      "cell_type": "markdown",
      "metadata": {
        "id": "view-in-github",
        "colab_type": "text"
      },
      "source": [
        "<a href=\"https://colab.research.google.com/github/shubhangilore/fds/blob/main/FDS%20JOURNAL%2017.ipynb\" target=\"_parent\"><img src=\"https://colab.research.google.com/assets/colab-badge.svg\" alt=\"Open In Colab\"/></a>"
      ]
    },
    {
      "cell_type": "code",
      "metadata": {
        "colab": {
          "base_uri": "https://localhost:8080/"
        },
        "id": "cgW3fZjQlKfS",
        "outputId": "5d78e172-4e61-4b13-a6a2-595501afa64b"
      },
      "source": [
        "%cd ..\r\n",
        "from google.colab import drive\r\n",
        "drive.mount('/content/gdrive')\r\n"
      ],
      "execution_count": null,
      "outputs": [
        {
          "output_type": "stream",
          "text": [
            "/\n",
            "Mounted at /content/gdrive\n"
          ],
          "name": "stdout"
        }
      ]
    },
    {
      "cell_type": "code",
      "metadata": {
        "id": "uMlD6ojAlg1y",
        "colab": {
          "base_uri": "https://localhost:8080/"
        },
        "outputId": "290eccb9-8652-439b-c107-ad0b1898f73a"
      },
      "source": [
        "from pathlib import Path\r\n",
        "\r\n",
        "import pandas as pd\r\n",
        "import numpy as np\r\n",
        "from scipy.stats import trim_mean\r\n",
        "from statsmodels import robust\r\n",
        "\r\n",
        "\r\n",
        "import seaborn as sns\r\n",
        "import matplotlib.pylab as plt"
      ],
      "execution_count": null,
      "outputs": [
        {
          "output_type": "stream",
          "text": [
            "/usr/local/lib/python3.7/dist-packages/statsmodels/tools/_testing.py:19: FutureWarning: pandas.util.testing is deprecated. Use the functions in the public API at pandas.testing instead.\n",
            "  import pandas.util.testing as tm\n"
          ],
          "name": "stderr"
        }
      ]
    },
    {
      "cell_type": "code",
      "metadata": {
        "id": "U4WgPz1S1bEL"
      },
      "source": [
        "gdata=pd.read_csv(\"/content/drive/MyDrive/datasets.zip (Unzipped Files)/datasets/gradedata2.csv\")"
      ],
      "execution_count": 42,
      "outputs": []
    },
    {
      "cell_type": "code",
      "metadata": {
        "colab": {
          "base_uri": "https://localhost:8080/",
          "height": 204
        },
        "id": "G25PlYqx10Yz",
        "outputId": "2c27f983-371d-46c5-bf78-bdf870f237c7"
      },
      "source": [
        "gdata.head()"
      ],
      "execution_count": 43,
      "outputs": [
        {
          "output_type": "execute_result",
          "data": {
            "text/html": [
              "<div>\n",
              "<style scoped>\n",
              "    .dataframe tbody tr th:only-of-type {\n",
              "        vertical-align: middle;\n",
              "    }\n",
              "\n",
              "    .dataframe tbody tr th {\n",
              "        vertical-align: top;\n",
              "    }\n",
              "\n",
              "    .dataframe thead th {\n",
              "        text-align: right;\n",
              "    }\n",
              "</style>\n",
              "<table border=\"1\" class=\"dataframe\">\n",
              "  <thead>\n",
              "    <tr style=\"text-align: right;\">\n",
              "      <th></th>\n",
              "      <th>fname</th>\n",
              "      <th>lname</th>\n",
              "      <th>gender</th>\n",
              "      <th>age</th>\n",
              "      <th>exercise</th>\n",
              "      <th>hours</th>\n",
              "      <th>grade</th>\n",
              "      <th>address</th>\n",
              "    </tr>\n",
              "  </thead>\n",
              "  <tbody>\n",
              "    <tr>\n",
              "      <th>0</th>\n",
              "      <td>Marcia</td>\n",
              "      <td>Pugh</td>\n",
              "      <td>female</td>\n",
              "      <td>17</td>\n",
              "      <td>3</td>\n",
              "      <td>10</td>\n",
              "      <td>82.4</td>\n",
              "      <td>7379 Highland Rd. , Dublin, GA 31021</td>\n",
              "    </tr>\n",
              "    <tr>\n",
              "      <th>1</th>\n",
              "      <td>Kadeem</td>\n",
              "      <td>Morrison</td>\n",
              "      <td>male</td>\n",
              "      <td>18</td>\n",
              "      <td>4</td>\n",
              "      <td>4</td>\n",
              "      <td>78.2</td>\n",
              "      <td>8 Bayport St. , Honolulu, HI 96815</td>\n",
              "    </tr>\n",
              "    <tr>\n",
              "      <th>2</th>\n",
              "      <td>Nash</td>\n",
              "      <td>Powell</td>\n",
              "      <td>male</td>\n",
              "      <td>18</td>\n",
              "      <td>5</td>\n",
              "      <td>9</td>\n",
              "      <td>79.3</td>\n",
              "      <td>Encino, CA 91316, 3 Lilac Street</td>\n",
              "    </tr>\n",
              "    <tr>\n",
              "      <th>3</th>\n",
              "      <td>Noelani</td>\n",
              "      <td>Wagner</td>\n",
              "      <td>female</td>\n",
              "      <td>14</td>\n",
              "      <td>2</td>\n",
              "      <td>7</td>\n",
              "      <td>83.2</td>\n",
              "      <td>Riverview, FL 33569, 9998 North Smith Dr.</td>\n",
              "    </tr>\n",
              "    <tr>\n",
              "      <th>4</th>\n",
              "      <td>Noelani</td>\n",
              "      <td>Cherry</td>\n",
              "      <td>female</td>\n",
              "      <td>18</td>\n",
              "      <td>4</td>\n",
              "      <td>15</td>\n",
              "      <td>87.4</td>\n",
              "      <td>97 SE. Ocean Street , Bethlehem, PA 18015</td>\n",
              "    </tr>\n",
              "  </tbody>\n",
              "</table>\n",
              "</div>"
            ],
            "text/plain": [
              "     fname     lname  ... grade                                     address\n",
              "0   Marcia      Pugh  ...  82.4        7379 Highland Rd. , Dublin, GA 31021\n",
              "1   Kadeem  Morrison  ...  78.2          8 Bayport St. , Honolulu, HI 96815\n",
              "2     Nash    Powell  ...  79.3           Encino, CA 91316, 3 Lilac Street \n",
              "3  Noelani    Wagner  ...  83.2  Riverview, FL 33569, 9998 North Smith Dr. \n",
              "4  Noelani    Cherry  ...  87.4   97 SE. Ocean Street , Bethlehem, PA 18015\n",
              "\n",
              "[5 rows x 8 columns]"
            ]
          },
          "metadata": {
            "tags": []
          },
          "execution_count": 43
        }
      ]
    },
    {
      "cell_type": "code",
      "metadata": {
        "colab": {
          "base_uri": "https://localhost:8080/"
        },
        "id": "AChZmjPW1_A_",
        "outputId": "2dca6f4e-43d2-41dd-8778-45096d716bd9"
      },
      "source": [
        "binnedPopulation = pd.cut(gdata['grade'], 10)\r\n",
        "print(binnedPopulation.value_counts())"
      ],
      "execution_count": 44,
      "outputs": [
        {
          "output_type": "stream",
          "text": [
            "(79.6, 86.4]      496\n",
            "(86.4, 93.2]      436\n",
            "(72.8, 79.6]      431\n",
            "(93.2, 100.0]     296\n",
            "(66.0, 72.8]      250\n",
            "(59.2, 66.0]       81\n",
            "(52.4, 59.2]        8\n",
            "(38.8, 45.6]        1\n",
            "(31.932, 38.8]      1\n",
            "(45.6, 52.4]        0\n",
            "Name: grade, dtype: int64\n"
          ],
          "name": "stdout"
        }
      ]
    },
    {
      "cell_type": "code",
      "metadata": {
        "colab": {
          "base_uri": "https://localhost:8080/"
        },
        "id": "B5BMOUj83J4Z",
        "outputId": "992144ac-9c92-4b7b-ee43-d86919e84970"
      },
      "source": [
        "binnedPopulation.name = 'binnedPopulation'\r\n",
        "df = pd.concat([gdata, binnedPopulation], axis=1)\r\n",
        "df = df.sort_values(by='grade')\r\n",
        "\r\n",
        "groups = []\r\n",
        "for group, subset in df.groupby(by='binnedPopulation'):\r\n",
        "    groups.append({\r\n",
        "        'BinRange': group,\r\n",
        "        'Count': len(subset),\r\n",
        "        'gdata': ','.join(subset.fname)\r\n",
        "    })\r\n",
        "print(pd.DataFrame(groups))"
      ],
      "execution_count": 45,
      "outputs": [
        {
          "output_type": "stream",
          "text": [
            "         BinRange  Count                                              gdata\n",
            "0  (31.932, 38.8]      1                                              Alika\n",
            "1    (38.8, 45.6]      1                                             Keegan\n",
            "2    (45.6, 52.4]      0                                                   \n",
            "3    (52.4, 59.2]      8     Levi,Gail,Jenna,Lacey,Isaiah,Abbot,Linda,Willa\n",
            "4    (59.2, 66.0]     81  Ciaran,Selma,Xanthus,Fitzgerald,Steven,Chester...\n",
            "5    (66.0, 72.8]    250  Cara,Amethyst,Preston,Stella,Irma,Keegan,Hardi...\n",
            "6    (72.8, 79.6]    431  Leila,Curran,Morgan,Penelope,Morgan,Mara,Tasha...\n",
            "7    (79.6, 86.4]    496  Leonard,Larissa,Carol,Hannah,Neve,Tanek,Buffy,...\n",
            "8    (86.4, 93.2]    436  Lee,Samuel,Vivian,John,Shad,Wesley,Lewis,Karly...\n",
            "9   (93.2, 100.0]    296  Armando,Fritz,Bethany,Doris,Eric,Darius,Gannon...\n"
          ],
          "name": "stdout"
        }
      ]
    },
    {
      "cell_type": "code",
      "metadata": {
        "colab": {
          "base_uri": "https://localhost:8080/",
          "height": 297
        },
        "id": "a0VkJg5t4ATw",
        "outputId": "7a4e2adb-180b-40cb-9843-ae1bd36333cd"
      },
      "source": [
        "ax = (gdata['grade'] / 1_000_000).plot.hist(figsize=(4, 4))\r\n",
        "ax.set_xlabel('grade (millions)')\r\n",
        "\r\n",
        "plt.tight_layout()\r\n",
        "plt.show()"
      ],
      "execution_count": 46,
      "outputs": [
        {
          "output_type": "display_data",
          "data": {
            "image/png": "[encoded data removed]",
            "text/plain": [
              "<Figure size 288x288 with 1 Axes>"
            ]
          },
          "metadata": {
            "tags": [],
            "needs_background": "light"
          }
        }
      ]
    },
    {
      "cell_type": "code",
      "metadata": {
        "colab": {
          "base_uri": "https://localhost:8080/",
          "height": 297
        },
        "id": "RIO33Z0kvIDO",
        "outputId": "5687b3db-68a1-41f0-b1ac-37652572e87c"
      },
      "source": [
        "ax = gdata['exercise'] .plot.hist(density=True, xlim=[0, 12], \r\n",
        "                                    bins=range(1,12), figsize=(4, 4))\r\n",
        "gdata['exercise'] .plot.density(ax=ax)\r\n",
        "ax.set_xlabel('exercise (per 100,000)')\r\n",
        "\r\n",
        "plt.tight_layout()\r\n",
        "plt.show()"
      ],
      "execution_count": 49,
      "outputs": [
        {
          "output_type": "display_data",
          "data": {
            "image/png": "[encoded data removed]",
            "text/plain": [
              "<Figure size 288x288 with 1 Axes>"
            ]
          },
          "metadata": {
            "tags": [],
            "needs_background": "light"
          }
        }
      ]
    },
    {
      "cell_type": "markdown",
      "metadata": {
        "id": "a5kUmololNx-"
      },
      "source": [
        "# New Section"
      ]
    },
    {
      "cell_type": "markdown",
      "metadata": {
        "id": "9CsA6CpzlI2g"
      },
      "source": [
        "Dataset 2:Smallgrades.csv"
      ]
    },
    {
      "cell_type": "code",
      "metadata": {
        "id": "dqn9J07kkwmG"
      },
      "source": [
        "gdata1=pd.read_csv(\"/content/drive/MyDrive/datasets.zip (Unzipped Files)/datasets/smallgradesh.csv\")"
      ],
      "execution_count": 52,
      "outputs": []
    },
    {
      "cell_type": "code",
      "metadata": {
        "colab": {
          "base_uri": "https://localhost:8080/",
          "height": 204
        },
        "id": "1vWP4dbKlHsu",
        "outputId": "9b522633-23de-4984-ae84-42a85c639d0a"
      },
      "source": [
        "gdata1.head()"
      ],
      "execution_count": 53,
      "outputs": [
        {
          "output_type": "execute_result",
          "data": {
            "text/html": [
              "<div>\n",
              "<style scoped>\n",
              "    .dataframe tbody tr th:only-of-type {\n",
              "        vertical-align: middle;\n",
              "    }\n",
              "\n",
              "    .dataframe tbody tr th {\n",
              "        vertical-align: top;\n",
              "    }\n",
              "\n",
              "    .dataframe thead th {\n",
              "        text-align: right;\n",
              "    }\n",
              "</style>\n",
              "<table border=\"1\" class=\"dataframe\">\n",
              "  <thead>\n",
              "    <tr style=\"text-align: right;\">\n",
              "      <th></th>\n",
              "      <th>Name</th>\n",
              "      <th>Grade</th>\n",
              "    </tr>\n",
              "  </thead>\n",
              "  <tbody>\n",
              "    <tr>\n",
              "      <th>0</th>\n",
              "      <td>Marcia</td>\n",
              "      <td>82.4</td>\n",
              "    </tr>\n",
              "    <tr>\n",
              "      <th>1</th>\n",
              "      <td>Kadeem</td>\n",
              "      <td>78.2</td>\n",
              "    </tr>\n",
              "    <tr>\n",
              "      <th>2</th>\n",
              "      <td>Nash</td>\n",
              "      <td>79.3</td>\n",
              "    </tr>\n",
              "    <tr>\n",
              "      <th>3</th>\n",
              "      <td>Noelani</td>\n",
              "      <td>83.2</td>\n",
              "    </tr>\n",
              "    <tr>\n",
              "      <th>4</th>\n",
              "      <td>Noelani</td>\n",
              "      <td>87.4</td>\n",
              "    </tr>\n",
              "  </tbody>\n",
              "</table>\n",
              "</div>"
            ],
            "text/plain": [
              "      Name  Grade\n",
              "0   Marcia   82.4\n",
              "1   Kadeem   78.2\n",
              "2     Nash   79.3\n",
              "3  Noelani   83.2\n",
              "4  Noelani   87.4"
            ]
          },
          "metadata": {
            "tags": []
          },
          "execution_count": 53
        }
      ]
    },
    {
      "cell_type": "code",
      "metadata": {
        "colab": {
          "base_uri": "https://localhost:8080/"
        },
        "id": "8SIkOrAxlYmG",
        "outputId": "e7ba22f7-249c-469e-a991-a00291681dd7"
      },
      "source": [
        "binnedPopulation = pd.cut(gdata1['Grade'], 10)\r\n",
        "print(binnedPopulation.value_counts())"
      ],
      "execution_count": 54,
      "outputs": [
        {
          "output_type": "stream",
          "text": [
            "(79.6, 86.4]      496\n",
            "(86.4, 93.2]      436\n",
            "(72.8, 79.6]      431\n",
            "(93.2, 100.0]     296\n",
            "(66.0, 72.8]      250\n",
            "(59.2, 66.0]       81\n",
            "(52.4, 59.2]        8\n",
            "(38.8, 45.6]        1\n",
            "(31.932, 38.8]      1\n",
            "(45.6, 52.4]        0\n",
            "Name: Grade, dtype: int64\n"
          ],
          "name": "stdout"
        }
      ]
    },
    {
      "cell_type": "code",
      "metadata": {
        "colab": {
          "base_uri": "https://localhost:8080/"
        },
        "id": "GfM_pK3Ll2_S",
        "outputId": "0217d64b-9a4f-489c-a01e-491541b97ad9"
      },
      "source": [
        "binnedPopulation.name = 'binnedPopulation'\r\n",
        "df = pd.concat([gdata1, binnedPopulation], axis=1)\r\n",
        "df = df.sort_values(by='Grade')\r\n",
        "\r\n",
        "groups = []\r\n",
        "for group, subset in df.groupby(by='binnedPopulation'):\r\n",
        "    groups.append({\r\n",
        "        'BinRange': group,\r\n",
        "        'Count': len(subset),\r\n",
        "        'gdata1': ','.join(subset.Name)\r\n",
        "    })\r\n",
        "print(pd.DataFrame(groups))"
      ],
      "execution_count": 55,
      "outputs": [
        {
          "output_type": "stream",
          "text": [
            "         BinRange  Count                                             gdata1\n",
            "0  (31.932, 38.8]      1                                              Alika\n",
            "1    (38.8, 45.6]      1                                             Keegan\n",
            "2    (45.6, 52.4]      0                                                   \n",
            "3    (52.4, 59.2]      8     Levi,Gail,Jenna,Lacey,Isaiah,Abbot,Linda,Willa\n",
            "4    (59.2, 66.0]     81  Ciaran,Selma,Xanthus,Fitzgerald,Steven,Chester...\n",
            "5    (66.0, 72.8]    250  Cara,Amethyst,Preston,Stella,Irma,Keegan,Hardi...\n",
            "6    (72.8, 79.6]    431  Leila,Curran,Morgan,Penelope,Morgan,Mara,Tasha...\n",
            "7    (79.6, 86.4]    496  Leonard,Larissa,Carol,Hannah,Neve,Tanek,Buffy,...\n",
            "8    (86.4, 93.2]    436  Lee,Samuel,Vivian,John,Shad,Wesley,Lewis,Karly...\n",
            "9   (93.2, 100.0]    296  Armando,Fritz,Bethany,Doris,Eric,Darius,Gannon...\n"
          ],
          "name": "stdout"
        }
      ]
    },
    {
      "cell_type": "code",
      "metadata": {
        "colab": {
          "base_uri": "https://localhost:8080/",
          "height": 297
        },
        "id": "Y7sDC4LDmGb8",
        "outputId": "456943d0-ba2f-44ae-d689-78140c78595c"
      },
      "source": [
        "ax = (gdata1['Grade'] / 1_000_000).plot.hist(figsize=(4, 4))\r\n",
        "ax.set_xlabel('Grade (millions)')\r\n",
        "\r\n",
        "plt.tight_layout()\r\n",
        "plt.show()"
      ],
      "execution_count": 56,
      "outputs": [
        {
          "output_type": "display_data",
          "data": {
            "image/png": "[encoded data removed]",
            "text/plain": [
              "<Figure size 288x288 with 1 Axes>"
            ]
          },
          "metadata": {
            "tags": [],
            "needs_background": "light"
          }
        }
      ]
    },
    {
      "cell_type": "code",
      "metadata": {
        "colab": {
          "base_uri": "https://localhost:8080/",
          "height": 351
        },
        "id": "amFmlETEv0mB",
        "outputId": "fc3217bc-a850-4e32-94d2-66de3c655ee8"
      },
      "source": [
        "ax = gdata1['Grade'].plot.hist(density=True, xlim=[0, 12], \r\n",
        "                                    bins=range(1,12), figsize=(4, 4))\r\n",
        "gdata1['Grade'].plot.density(ax=ax)\r\n",
        "ax.set_xlabel('Murder Rate (per 100,000)')\r\n",
        "\r\n",
        "plt.tight_layout()\r\n",
        "plt.show()\r\n"
      ],
      "execution_count": 57,
      "outputs": [
        {
          "output_type": "stream",
          "text": [
            "/usr/local/lib/python3.7/dist-packages/numpy/lib/histograms.py:905: RuntimeWarning: invalid value encountered in true_divide\n",
            "  return n/db/n.sum(), bin_edges\n"
          ],
          "name": "stderr"
        },
        {
          "output_type": "display_data",
          "data": {
            "image/png": "[encoded data removed]",
            "text/plain": [
              "<Figure size 288x288 with 1 Axes>"
            ]
          },
          "metadata": {
            "tags": [],
            "needs_background": "light"
          }
        }
      ]
    },
    {
      "cell_type": "markdown",
      "metadata": {
        "id": "T7oYuBpJmOfE"
      },
      "source": [
        "dataset 3:Axisdata.csv"
      ]
    },
    {
      "cell_type": "code",
      "metadata": {
        "id": "yFUdPCYxmSFS"
      },
      "source": [
        "gdata2=pd.read_csv(\"/content/drive/MyDrive/datasets.zip (Unzipped Files)/datasets/axisdata.csv\")"
      ],
      "execution_count": null,
      "outputs": []
    },
    {
      "cell_type": "code",
      "metadata": {
        "colab": {
          "base_uri": "https://localhost:8080/",
          "height": 204
        },
        "id": "3j5kliByneX8",
        "outputId": "ba779125-3a75-4b96-8634-bd476a7cd736"
      },
      "source": [
        "gdata2.head()"
      ],
      "execution_count": null,
      "outputs": [
        {
          "output_type": "execute_result",
          "data": {
            "text/html": [
              "<div>\n",
              "<style scoped>\n",
              "    .dataframe tbody tr th:only-of-type {\n",
              "        vertical-align: middle;\n",
              "    }\n",
              "\n",
              "    .dataframe tbody tr th {\n",
              "        vertical-align: top;\n",
              "    }\n",
              "\n",
              "    .dataframe thead th {\n",
              "        text-align: right;\n",
              "    }\n",
              "</style>\n",
              "<table border=\"1\" class=\"dataframe\">\n",
              "  <thead>\n",
              "    <tr style=\"text-align: right;\">\n",
              "      <th></th>\n",
              "      <th>Fname</th>\n",
              "      <th>Lname</th>\n",
              "      <th>Gender</th>\n",
              "      <th>Hours Worked</th>\n",
              "      <th>SalesTraining</th>\n",
              "      <th>Years Experience</th>\n",
              "      <th>Cars Sold</th>\n",
              "    </tr>\n",
              "  </thead>\n",
              "  <tbody>\n",
              "    <tr>\n",
              "      <th>0</th>\n",
              "      <td>Jada</td>\n",
              "      <td>Walters</td>\n",
              "      <td>F</td>\n",
              "      <td>39</td>\n",
              "      <td>N</td>\n",
              "      <td>3</td>\n",
              "      <td>2</td>\n",
              "    </tr>\n",
              "    <tr>\n",
              "      <th>1</th>\n",
              "      <td>Nicole</td>\n",
              "      <td>Henderson</td>\n",
              "      <td>F</td>\n",
              "      <td>46</td>\n",
              "      <td>N</td>\n",
              "      <td>3</td>\n",
              "      <td>6</td>\n",
              "    </tr>\n",
              "    <tr>\n",
              "      <th>2</th>\n",
              "      <td>Tanya</td>\n",
              "      <td>Moore</td>\n",
              "      <td>F</td>\n",
              "      <td>42</td>\n",
              "      <td>Y</td>\n",
              "      <td>4</td>\n",
              "      <td>6</td>\n",
              "    </tr>\n",
              "    <tr>\n",
              "      <th>3</th>\n",
              "      <td>Ronelle</td>\n",
              "      <td>Jackson</td>\n",
              "      <td>F</td>\n",
              "      <td>38</td>\n",
              "      <td>Y</td>\n",
              "      <td>5</td>\n",
              "      <td>3</td>\n",
              "    </tr>\n",
              "    <tr>\n",
              "      <th>4</th>\n",
              "      <td>Brad</td>\n",
              "      <td>Sears</td>\n",
              "      <td>M</td>\n",
              "      <td>33</td>\n",
              "      <td>N</td>\n",
              "      <td>4</td>\n",
              "      <td>2</td>\n",
              "    </tr>\n",
              "  </tbody>\n",
              "</table>\n",
              "</div>"
            ],
            "text/plain": [
              "     Fname      Lname Gender  ...  SalesTraining Years Experience  Cars Sold\n",
              "0     Jada   Walters       F  ...              N                3          2\n",
              "1   Nicole  Henderson      F  ...              N                3          6\n",
              "2    Tanya      Moore      F  ...              Y                4          6\n",
              "3  Ronelle    Jackson      F  ...              Y                5          3\n",
              "4     Brad      Sears      M  ...              N                4          2\n",
              "\n",
              "[5 rows x 7 columns]"
            ]
          },
          "metadata": {
            "tags": []
          },
          "execution_count": 14
        }
      ]
    },
    {
      "cell_type": "code",
      "metadata": {
        "colab": {
          "base_uri": "https://localhost:8080/"
        },
        "id": "6BHCOXf-nj3C",
        "outputId": "59d0d606-6250-4883-d2a7-585407bbceaa"
      },
      "source": [
        "binnedPopulation = pd.cut(gdata2['Years Experience'], 10)\r\n",
        "print(binnedPopulation.value_counts())"
      ],
      "execution_count": null,
      "outputs": [
        {
          "output_type": "stream",
          "text": [
            "(2.6, 3.0]      212\n",
            "(1.8, 2.2]      207\n",
            "(4.6, 5.0]      202\n",
            "(3.8, 4.2]      195\n",
            "(0.996, 1.4]    183\n",
            "(4.2, 4.6]        0\n",
            "(3.4, 3.8]        0\n",
            "(3.0, 3.4]        0\n",
            "(2.2, 2.6]        0\n",
            "(1.4, 1.8]        0\n",
            "Name: Years Experience, dtype: int64\n"
          ],
          "name": "stdout"
        }
      ]
    },
    {
      "cell_type": "code",
      "metadata": {
        "colab": {
          "base_uri": "https://localhost:8080/"
        },
        "id": "KgE-VWlonyX7",
        "outputId": "9d411a8c-5efc-45c7-c6c4-a668f38b6311"
      },
      "source": [
        "binnedPopulation.name = 'binnedPopulation'\r\n",
        "df = pd.concat([gdata1, binnedPopulation], axis=1)\r\n",
        "df = df.sort_values(by='Years Experience')\r\n",
        "\r\n",
        "groups = []\r\n",
        "for group, subset in df.groupby(by='binnedPopulation'):\r\n",
        "    groups.append({\r\n",
        "        'BinRange': group,\r\n",
        "        'Count': len(subset),\r\n",
        "        'gdata2': ','.join(subset.Fname)\r\n",
        "    })\r\n",
        "print(pd.DataFrame(groups))"
      ],
      "execution_count": null,
      "outputs": [
        {
          "output_type": "stream",
          "text": [
            "       BinRange  Count                                             gdata2\n",
            "0  (0.996, 1.4]    183  Mike,Sam,Roger,John,Tanya,Adam,Tom,Adam,Martin...\n",
            "1    (1.4, 1.8]      0                                                   \n",
            "2    (1.8, 2.2]    207  Brad,Roger,Harold,Nicole,Francine,Karen,Nicole...\n",
            "3    (2.2, 2.6]      0                                                   \n",
            "4    (2.6, 3.0]    212  Jackie,Larry,Brad,Mary,Onika,Adam,Nicole,Mary,...\n",
            "5    (3.0, 3.4]      0                                                   \n",
            "6    (3.4, 3.8]      0                                                   \n",
            "7    (3.8, 4.2]    195  Oliver,Samantha,Frank,Veronica,Sam,Walter,Pete...\n",
            "8    (4.2, 4.6]      0                                                   \n",
            "9    (4.6, 5.0]    202  Carla,Betty,Paula,Adam,Sam,Onika,Martin,Victor...\n"
          ],
          "name": "stdout"
        }
      ]
    },
    {
      "cell_type": "code",
      "metadata": {
        "colab": {
          "base_uri": "https://localhost:8080/",
          "height": 297
        },
        "id": "iV9nRszkn-tl",
        "outputId": "ce3df495-5853-4e4d-f631-4d5de2d339cd"
      },
      "source": [
        "ax = (gdata2['Years Experience'] / 1_000_000).plot.hist(figsize=(4, 4))\r\n",
        "ax.set_xlabel('Years Experience (millions)')\r\n",
        "\r\n",
        "plt.tight_layout()\r\n",
        "plt.show()"
      ],
      "execution_count": null,
      "outputs": [
        {
          "output_type": "display_data",
          "data": {
            "image/png": "[encoded data removed]",
            "text/plain": [
              "<Figure size 288x288 with 1 Axes>"
            ]
          },
          "metadata": {
            "tags": [],
            "needs_background": "light"
          }
        }
      ]
    },
    {
      "cell_type": "markdown",
      "metadata": {
        "id": "SEnjfwJuvBEU"
      },
      "source": [
        "Density curve"
      ]
    },
    {
      "cell_type": "code",
      "metadata": {
        "colab": {
          "base_uri": "https://localhost:8080/",
          "height": 297
        },
        "id": "jyis4m2Puy3e",
        "outputId": "e4bf5ad1-467a-434b-b171-773737e200d8"
      },
      "source": [
        "ax = gdata2['Years Experience'].plot.hist(density=True, xlim=[0, 12], \r\n",
        "                                    bins=range(1,12), figsize=(4, 4))\r\n",
        "gdata2['Years Experience'].plot.density(ax=ax)\r\n",
        "ax.set_xlabel('Years Experience(per 100,000)')\r\n",
        "\r\n",
        "plt.tight_layout()\r\n",
        "plt.show()"
      ],
      "execution_count": 40,
      "outputs": [
        {
          "output_type": "display_data",
          "data": {
            "image/png": "[encoded data removed]",
            "text/plain": [
              "<Figure size 288x288 with 1 Axes>"
            ]
          },
          "metadata": {
            "tags": [],
            "needs_background": "light"
          }
        }
      ]
    },
    {
      "cell_type": "markdown",
      "metadata": {
        "id": "CjvWR-4QmGAL"
      },
      "source": [
        ""
      ]
    },
    {
      "cell_type": "markdown",
      "metadata": {
        "id": "aMKf2gh7oMsp"
      },
      "source": [
        "dataset 4:algebradata.csv"
      ]
    },
    {
      "cell_type": "code",
      "metadata": {
        "id": "jf1y8_b5oYGM"
      },
      "source": [
        "gdata4=pd.read_csv(\"/content/drive/MyDrive/datasets.zip (Unzipped Files)/datasets/algebradata.csv\")"
      ],
      "execution_count": null,
      "outputs": []
    },
    {
      "cell_type": "code",
      "metadata": {
        "colab": {
          "base_uri": "https://localhost:8080/",
          "height": 204
        },
        "id": "sPKBc5Qboppx",
        "outputId": "0fb672fe-b829-4ba6-9155-58e56290b3de"
      },
      "source": [
        "gdata4.head()"
      ],
      "execution_count": null,
      "outputs": [
        {
          "output_type": "execute_result",
          "data": {
            "text/html": [
              "<div>\n",
              "<style scoped>\n",
              "    .dataframe tbody tr th:only-of-type {\n",
              "        vertical-align: middle;\n",
              "    }\n",
              "\n",
              "    .dataframe tbody tr th {\n",
              "        vertical-align: top;\n",
              "    }\n",
              "\n",
              "    .dataframe thead th {\n",
              "        text-align: right;\n",
              "    }\n",
              "</style>\n",
              "<table border=\"1\" class=\"dataframe\">\n",
              "  <thead>\n",
              "    <tr style=\"text-align: right;\">\n",
              "      <th></th>\n",
              "      <th>Fname</th>\n",
              "      <th>Lname</th>\n",
              "      <th>Gender</th>\n",
              "      <th>Grade</th>\n",
              "      <th>Hours of Study</th>\n",
              "    </tr>\n",
              "  </thead>\n",
              "  <tbody>\n",
              "    <tr>\n",
              "      <th>0</th>\n",
              "      <td>Mary</td>\n",
              "      <td>Ettienne</td>\n",
              "      <td>F</td>\n",
              "      <td>B</td>\n",
              "      <td>16</td>\n",
              "    </tr>\n",
              "    <tr>\n",
              "      <th>1</th>\n",
              "      <td>Charles</td>\n",
              "      <td>Looner</td>\n",
              "      <td>M</td>\n",
              "      <td>F</td>\n",
              "      <td>8</td>\n",
              "    </tr>\n",
              "    <tr>\n",
              "      <th>2</th>\n",
              "      <td>Betty</td>\n",
              "      <td>Franklin</td>\n",
              "      <td>F</td>\n",
              "      <td>A</td>\n",
              "      <td>24</td>\n",
              "    </tr>\n",
              "    <tr>\n",
              "      <th>3</th>\n",
              "      <td>Roger</td>\n",
              "      <td>Withers</td>\n",
              "      <td>M</td>\n",
              "      <td>C</td>\n",
              "      <td>5</td>\n",
              "    </tr>\n",
              "    <tr>\n",
              "      <th>4</th>\n",
              "      <td>John</td>\n",
              "      <td>Mulgrew</td>\n",
              "      <td>M</td>\n",
              "      <td>A</td>\n",
              "      <td>5</td>\n",
              "    </tr>\n",
              "  </tbody>\n",
              "</table>\n",
              "</div>"
            ],
            "text/plain": [
              "     Fname     Lname Gender Grade  Hours of Study\n",
              "0     Mary  Ettienne      F     B              16\n",
              "1  Charles    Looner      M     F               8\n",
              "2    Betty  Franklin      F     A              24\n",
              "3    Roger   Withers      M     C               5\n",
              "4     John   Mulgrew      M     A               5"
            ]
          },
          "metadata": {
            "tags": []
          },
          "execution_count": 25
        }
      ]
    },
    {
      "cell_type": "code",
      "metadata": {
        "colab": {
          "base_uri": "https://localhost:8080/"
        },
        "id": "dfCu6sQeozlo",
        "outputId": "bd5f1484-993a-45b4-9069-093b925703f8"
      },
      "source": [
        "binnedPopulation = pd.cut(gdata4['Hours of Study'], 10)\r\n",
        "print(binnedPopulation.value_counts())"
      ],
      "execution_count": null,
      "outputs": [
        {
          "output_type": "stream",
          "text": [
            "(-0.03, 3.0]    127\n",
            "(9.0, 12.0]     107\n",
            "(27.0, 30.0]    100\n",
            "(18.0, 21.0]    100\n",
            "(24.0, 27.0]     97\n",
            "(15.0, 18.0]     96\n",
            "(3.0, 6.0]       96\n",
            "(21.0, 24.0]     93\n",
            "(12.0, 15.0]     93\n",
            "(6.0, 9.0]       90\n",
            "Name: Hours of Study, dtype: int64\n"
          ],
          "name": "stdout"
        }
      ]
    },
    {
      "cell_type": "code",
      "metadata": {
        "colab": {
          "base_uri": "https://localhost:8080/"
        },
        "id": "CbWuV22Oo7jx",
        "outputId": "bf73f42c-ccd1-4f02-9909-3cd3a801bf4e"
      },
      "source": [
        "binnedPopulation.name = 'binnedPopulation'\r\n",
        "df = pd.concat([gdata4, binnedPopulation], axis=1)\r\n",
        "df = df.sort_values(by='Hours of Study')\r\n",
        "\r\n",
        "groups = []\r\n",
        "for group, subset in df.groupby(by='binnedPopulation'):\r\n",
        "    groups.append({\r\n",
        "        'BinRange': group,\r\n",
        "        'Count': len(subset),\r\n",
        "        'gdata4': ','.join(subset.Fname)\r\n",
        "    })\r\n",
        "print(pd.DataFrame(groups))"
      ],
      "execution_count": null,
      "outputs": [
        {
          "output_type": "stream",
          "text": [
            "       BinRange  Count                                             gdata4\n",
            "0  (-0.03, 3.0]    127  india,John,Peter,Carla,Veronica,Frank,Mary,Oli...\n",
            "1    (3.0, 6.0]     96  Betty,Nicole,Nicole,Onika,Jackie,Denise,Mike,P...\n",
            "2    (6.0, 9.0]     90  Jada,August,Aaron,Betty,Denise,Francine,Jada,S...\n",
            "3   (9.0, 12.0]    107  Victor,John,Harold,Veronica,Jack,John,David,On...\n",
            "4  (12.0, 15.0]     93  Frank,Betty,Brad,Lisa,Karen,india,Jack,Denise,...\n",
            "5  (15.0, 18.0]     96  Harold,Tanya,Frank,David,Peter,Denise,Nicole,J...\n",
            "6  (18.0, 21.0]    100  Samantha,Ronelle,John,Charles,Victoria,Mike,Ni...\n",
            "7  (21.0, 24.0]     93  Mary,Aaron,Mike,Victor,David,Oliver,Mary,Roger...\n",
            "8  (24.0, 27.0]     97  Tanya,August,Nicole,Karen,Onika,Carla,Paula,On...\n",
            "9  (27.0, 30.0]    100  Sam,Martin,Carla,John,August,Larry,David,Karen...\n"
          ],
          "name": "stdout"
        }
      ]
    },
    {
      "cell_type": "code",
      "metadata": {
        "colab": {
          "base_uri": "https://localhost:8080/",
          "height": 297
        },
        "id": "ra8TdeGdpIJZ",
        "outputId": "971187f0-e25b-42b9-fe36-1bd8f18821a5"
      },
      "source": [
        "ax = (gdata4['Hours of Study'] / 1_000_000).plot.hist(figsize=(4, 4))\r\n",
        "ax.set_xlabel('Hours of Study(millions)')\r\n",
        "\r\n",
        "plt.tight_layout()\r\n",
        "plt.show()"
      ],
      "execution_count": null,
      "outputs": [
        {
          "output_type": "display_data",
          "data": {
            "image/png": "[encoded data removed]",
            "text/plain": [
              "<Figure size 288x288 with 1 Axes>"
            ]
          },
          "metadata": {
            "tags": [],
            "needs_background": "light"
          }
        }
      ]
    },
    {
      "cell_type": "markdown",
      "metadata": {
        "id": "d1bTNQKrurQs"
      },
      "source": [
        "Density curve"
      ]
    },
    {
      "cell_type": "code",
      "metadata": {
        "colab": {
          "base_uri": "https://localhost:8080/",
          "height": 297
        },
        "id": "KCZXvtQquXb-",
        "outputId": "b249482e-7d59-4199-bad8-c70326998879"
      },
      "source": [
        "ax = gdata4['Hours of Study'].plot.hist(density=True, xlim=[0, 12], \r\n",
        "                                    bins=range(1,12), figsize=(4, 4))\r\n",
        "gdata4['Hours of Study'].plot.density(ax=ax)\r\n",
        "ax.set_xlabel('Hours of Study (per 100,000)')\r\n",
        "\r\n",
        "plt.tight_layout()\r\n",
        "plt.show()"
      ],
      "execution_count": 39,
      "outputs": [
        {
          "output_type": "display_data",
          "data": {
            "image/png": "[encoded data removed]",
            "text/plain": [
              "<Figure size 288x288 with 1 Axes>"
            ]
          },
          "metadata": {
            "tags": [],
            "needs_background": "light"
          }
        }
      ]
    },
    {
      "cell_type": "markdown",
      "metadata": {
        "id": "nAa0UPWppTtG"
      },
      "source": [
        "dataset 5:fdicdata.csv"
      ]
    },
    {
      "cell_type": "code",
      "metadata": {
        "id": "8Kw9-6fmpah9"
      },
      "source": [
        "gdata5=pd.read_csv(\"/content/drive/MyDrive/datasets.zip (Unzipped Files)/datasets/fdicdata.csv\")"
      ],
      "execution_count": null,
      "outputs": []
    },
    {
      "cell_type": "code",
      "metadata": {
        "colab": {
          "base_uri": "https://localhost:8080/",
          "height": 289
        },
        "id": "F9dhkDoipnCC",
        "outputId": "94f57fdf-7128-4cdb-d210-378ceb28f003"
      },
      "source": [
        "gdata5.head()"
      ],
      "execution_count": null,
      "outputs": [
        {
          "output_type": "execute_result",
          "data": {
            "text/html": [
              "<div>\n",
              "<style scoped>\n",
              "    .dataframe tbody tr th:only-of-type {\n",
              "        vertical-align: middle;\n",
              "    }\n",
              "\n",
              "    .dataframe tbody tr th {\n",
              "        vertical-align: top;\n",
              "    }\n",
              "\n",
              "    .dataframe thead th {\n",
              "        text-align: right;\n",
              "    }\n",
              "</style>\n",
              "<table border=\"1\" class=\"dataframe\">\n",
              "  <thead>\n",
              "    <tr style=\"text-align: right;\">\n",
              "      <th></th>\n",
              "      <th>STNAME</th>\n",
              "      <th>ACTIVE</th>\n",
              "      <th>ADDRESS</th>\n",
              "      <th>ASSET</th>\n",
              "      <th>CITY</th>\n",
              "      <th>NAME</th>\n",
              "      <th>ROA</th>\n",
              "      <th>ROE</th>\n",
              "      <th>WEBADDR</th>\n",
              "      <th>ZIP</th>\n",
              "      <th>FLDOFF</th>\n",
              "      <th>REGION</th>\n",
              "    </tr>\n",
              "  </thead>\n",
              "  <tbody>\n",
              "    <tr>\n",
              "      <th>0</th>\n",
              "      <td>Connecticut</td>\n",
              "      <td>0</td>\n",
              "      <td>22 Main Street</td>\n",
              "      <td>48,570</td>\n",
              "      <td>Southington</td>\n",
              "      <td>The Southington Bank and Trust Company</td>\n",
              "      <td>NaN</td>\n",
              "      <td>NaN</td>\n",
              "      <td></td>\n",
              "      <td>6489</td>\n",
              "      <td>Hartford</td>\n",
              "      <td>New York</td>\n",
              "    </tr>\n",
              "    <tr>\n",
              "      <th>1</th>\n",
              "      <td>Connecticut</td>\n",
              "      <td>0</td>\n",
              "      <td>81 West Main Street</td>\n",
              "      <td>624,655</td>\n",
              "      <td>Waterbury</td>\n",
              "      <td>Colonial Bank of Waterbury</td>\n",
              "      <td>NaN</td>\n",
              "      <td>NaN</td>\n",
              "      <td></td>\n",
              "      <td>6720</td>\n",
              "      <td>Hartford</td>\n",
              "      <td>New York</td>\n",
              "    </tr>\n",
              "    <tr>\n",
              "      <th>2</th>\n",
              "      <td>Maine</td>\n",
              "      <td>0</td>\n",
              "      <td>One City Center</td>\n",
              "      <td>1,699,404</td>\n",
              "      <td>Portland</td>\n",
              "      <td>Fleet Bank of Maine</td>\n",
              "      <td>NaN</td>\n",
              "      <td>NaN</td>\n",
              "      <td></td>\n",
              "      <td>4104</td>\n",
              "      <td>Concord</td>\n",
              "      <td>New York</td>\n",
              "    </tr>\n",
              "    <tr>\n",
              "      <th>3</th>\n",
              "      <td>Maine</td>\n",
              "      <td>0</td>\n",
              "      <td>66 Main Street</td>\n",
              "      <td>539,169</td>\n",
              "      <td>Ellsworth</td>\n",
              "      <td>Union Trust Company</td>\n",
              "      <td>NaN</td>\n",
              "      <td>NaN</td>\n",
              "      <td></td>\n",
              "      <td>4605</td>\n",
              "      <td>Concord</td>\n",
              "      <td>New York</td>\n",
              "    </tr>\n",
              "    <tr>\n",
              "      <th>4</th>\n",
              "      <td>Maine</td>\n",
              "      <td>0</td>\n",
              "      <td>8 Washington Street</td>\n",
              "      <td>55,692</td>\n",
              "      <td>Sanford</td>\n",
              "      <td>Northeast Bank of Sanford</td>\n",
              "      <td>NaN</td>\n",
              "      <td>NaN</td>\n",
              "      <td></td>\n",
              "      <td>4073</td>\n",
              "      <td>Concord</td>\n",
              "      <td>New York</td>\n",
              "    </tr>\n",
              "  </tbody>\n",
              "</table>\n",
              "</div>"
            ],
            "text/plain": [
              "        STNAME  ACTIVE              ADDRESS  ...   ZIP    FLDOFF    REGION\n",
              "0  Connecticut       0       22 Main Street  ...  6489  Hartford  New York\n",
              "1  Connecticut       0  81 West Main Street  ...  6720  Hartford  New York\n",
              "2        Maine       0      One City Center  ...  4104   Concord  New York\n",
              "3        Maine       0       66 Main Street  ...  4605   Concord  New York\n",
              "4        Maine       0  8 Washington Street  ...  4073   Concord  New York\n",
              "\n",
              "[5 rows x 12 columns]"
            ]
          },
          "metadata": {
            "tags": []
          },
          "execution_count": 30
        }
      ]
    },
    {
      "cell_type": "code",
      "metadata": {
        "colab": {
          "base_uri": "https://localhost:8080/"
        },
        "id": "euznzyCwpwaW",
        "outputId": "49d242af-4112-40ac-e03a-4c610364ffc6"
      },
      "source": [
        "binnedPopulation = pd.cut(gdata5['ZIP'], 10)\r\n",
        "print(binnedPopulation.value_counts())"
      ],
      "execution_count": null,
      "outputs": [
        {
          "output_type": "stream",
          "text": [
            "(70114.3, 80043.2]    4420\n",
            "(60185.4, 70114.3]    4070\n",
            "(30398.7, 40327.6]    3614\n",
            "(50256.5, 60185.4]    3430\n",
            "(40327.6, 50256.5]    2763\n",
            "(20469.8, 30398.7]    2331\n",
            "(512.711, 10540.9]    2031\n",
            "(89972.1, 99901.0]    1825\n",
            "(10540.9, 20469.8]    1632\n",
            "(80043.2, 89972.1]    1482\n",
            "Name: ZIP, dtype: int64\n"
          ],
          "name": "stdout"
        }
      ]
    },
    {
      "cell_type": "code",
      "metadata": {
        "colab": {
          "base_uri": "https://localhost:8080/"
        },
        "id": "oOze7uqLqYiQ",
        "outputId": "ce507e17-422f-4912-9c5a-ea4f8cf9b9f2"
      },
      "source": [
        "binnedPopulation.name = 'binnedPopulation'\r\n",
        "df = pd.concat([gdata5, binnedPopulation], axis=1)\r\n",
        "df = df.sort_values(by='ZIP')\r\n",
        "\r\n",
        "groups = []\r\n",
        "for group, subset in df.groupby(by='binnedPopulation'):\r\n",
        "    groups.append({\r\n",
        "        'BinRange': group,\r\n",
        "        'Count': len(subset),\r\n",
        "        'gdata5': ','.join(subset.STNAME)\r\n",
        "    })\r\n",
        "print(pd.DataFrame(groups))"
      ],
      "execution_count": null,
      "outputs": [
        {
          "output_type": "stream",
          "text": [
            "             BinRange  Count                                             gdata5\n",
            "0  (512.711, 10540.9]   2031  Puerto Rico,Puerto Rico,Puerto Rico,Puerto Ric...\n",
            "1  (10540.9, 20469.8]   1632  New York,New York,New York,New York,New York,N...\n",
            "2  (20469.8, 30398.7]   2331  Maryland,Maryland,Maryland,Maryland,Maryland,M...\n",
            "3  (30398.7, 40327.6]   3614  Georgia,Georgia,Georgia,Georgia,Georgia,Georgi...\n",
            "4  (40327.6, 50256.5]   2763  Kentucky,Kentucky,Kentucky,Kentucky,Kentucky,K...\n",
            "5  (50256.5, 60185.4]   3430  Iowa,Iowa,Iowa,Iowa,Iowa,Iowa,Iowa,Iowa,Iowa,I...\n",
            "6  (60185.4, 70114.3]   4070  Illinois,Illinois,Illinois,Illinois,Illinois,I...\n",
            "7  (70114.3, 80043.2]   4420  Louisiana,Louisiana,Louisiana,Louisiana,Louisi...\n",
            "8  (80043.2, 89972.1]   1482  Colorado,Colorado,Colorado,Colorado,Colorado,C...\n",
            "9  (89972.1, 99901.0]   1825  California,California,California,California,Ca...\n"
          ],
          "name": "stdout"
        }
      ]
    },
    {
      "cell_type": "code",
      "metadata": {
        "colab": {
          "base_uri": "https://localhost:8080/",
          "height": 297
        },
        "id": "n5s0syMNqs4L",
        "outputId": "611d1db2-3ff1-49c1-8c1a-354bb1acbb71"
      },
      "source": [
        "ax = (gdata5['ZIP'] / 1_000_000).plot.hist(figsize=(4, 4))\r\n",
        "ax.set_xlabel('ZIP(millions)')\r\n",
        "\r\n",
        "plt.tight_layout()\r\n",
        "plt.show()"
      ],
      "execution_count": null,
      "outputs": [
        {
          "output_type": "display_data",
          "data": {
            "image/png": "[encoded data removed]",
            "text/plain": [
              "<Figure size 288x288 with 1 Axes>"
            ]
          },
          "metadata": {
            "tags": [],
            "needs_background": "light"
          }
        }
      ]
    },
    {
      "cell_type": "markdown",
      "metadata": {
        "id": "_ePStGwWs6uf"
      },
      "source": [
        "Density curve"
      ]
    },
    {
      "cell_type": "code",
      "metadata": {
        "colab": {
          "base_uri": "https://localhost:8080/",
          "height": 297
        },
        "id": "xFcurZO1s6Ke",
        "outputId": "039aae02-3630-43cd-f3e5-f05c1778cbd2"
      },
      "source": [
        "ax = gdata5['ACTIVE'].plot.hist(density=True, xlim=[0, 10], \r\n",
        "                                    bins=range(1,10), figsize=(4, 4))\r\n",
        "gdata5['ACTIVE'].plot.density(ax=ax)\r\n",
        "ax.set_xlabel('ZIP (per 100,000)')\r\n",
        "\r\n",
        "plt.tight_layout()\r\n",
        "plt.show()"
      ],
      "execution_count": 59,
      "outputs": [
        {
          "output_type": "display_data",
          "data": {
            "image/png": "[encoded data removed]",
            "text/plain": [
              "<Figure size 288x288 with 1 Axes>"
            ]
          },
          "metadata": {
            "tags": [],
            "needs_background": "light"
          }
        }
      ]
    }
  ]
}