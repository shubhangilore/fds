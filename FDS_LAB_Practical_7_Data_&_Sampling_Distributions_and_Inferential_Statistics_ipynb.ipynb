{
  "nbformat": 4,
  "nbformat_minor": 0,
  "metadata": {
    "colab": {
      "name": "FDS_LAB_Practical_7_Data_&_Sampling_Distributions_and_Inferential_Statistics.ipynb.ipynb",
      "provenance": [],
      "mount_file_id": "1uicBP9ykE9kXJCasBRnOqpHbmZSDLvU8",
      "authorship_tag": "ABX9TyPK6sxsPapnMbNj3h1f26MV",
      "include_colab_link": true
    },
    "kernelspec": {
      "name": "python3",
      "display_name": "Python 3"
    },
    "language_info": {
      "name": "python"
    }
  },
  "cells": [
    {
      "cell_type": "markdown",
      "metadata": {
        "id": "view-in-github",
        "colab_type": "text"
      },
      "source": [
        "<a href=\"https://colab.research.google.com/github/shubhangilore/fds/blob/main/FDS_LAB_Practical_7_Data_%26_Sampling_Distributions_and_Inferential_Statistics_ipynb.ipynb\" target=\"_parent\"><img src=\"https://colab.research.google.com/assets/colab-badge.svg\" alt=\"Open In Colab\"/></a>"
      ]
    },
    {
      "cell_type": "code",
      "metadata": {
        "id": "0LD67GEO4S4N"
      },
      "source": [
        "#1. Sampling DistributioN\n",
        "#(https://github.com/gedeck/practical-statistics-for-data-scientists/blob/master/python/notebooks/Chapter%202%20-%20Data%20and%20sampling%20distributions.ipynb)\n",
        "\n",
        "from pathlib import Path\n",
        "import pandas as pd\n",
        "import numpy as np\n",
        "from scipy import stats\n",
        "from sklearn.utils import resample\n",
        "\n",
        "import seaborn as sns\n",
        "import matplotlib.pylab as plt\n"
      ],
      "execution_count": 3,
      "outputs": []
    },
    {
      "cell_type": "code",
      "metadata": {
        "colab": {
          "base_uri": "https://localhost:8080/",
          "height": 419
        },
        "id": "ymEDd17S5WYK",
        "outputId": "7ff5acab-aeb5-4798-e25a-984e168180de"
      },
      "source": [
        "df=pd.read_csv('/content/loans_income.csv')\n",
        "df"
      ],
      "execution_count": 16,
      "outputs": [
        {
          "output_type": "execute_result",
          "data": {
            "text/html": [
              "<div>\n",
              "<style scoped>\n",
              "    .dataframe tbody tr th:only-of-type {\n",
              "        vertical-align: middle;\n",
              "    }\n",
              "\n",
              "    .dataframe tbody tr th {\n",
              "        vertical-align: top;\n",
              "    }\n",
              "\n",
              "    .dataframe thead th {\n",
              "        text-align: right;\n",
              "    }\n",
              "</style>\n",
              "<table border=\"1\" class=\"dataframe\">\n",
              "  <thead>\n",
              "    <tr style=\"text-align: right;\">\n",
              "      <th></th>\n",
              "      <th>x</th>\n",
              "    </tr>\n",
              "  </thead>\n",
              "  <tbody>\n",
              "    <tr>\n",
              "      <th>0</th>\n",
              "      <td>67000</td>\n",
              "    </tr>\n",
              "    <tr>\n",
              "      <th>1</th>\n",
              "      <td>52000</td>\n",
              "    </tr>\n",
              "    <tr>\n",
              "      <th>2</th>\n",
              "      <td>100000</td>\n",
              "    </tr>\n",
              "    <tr>\n",
              "      <th>3</th>\n",
              "      <td>78762</td>\n",
              "    </tr>\n",
              "    <tr>\n",
              "      <th>4</th>\n",
              "      <td>37041</td>\n",
              "    </tr>\n",
              "    <tr>\n",
              "      <th>...</th>\n",
              "      <td>...</td>\n",
              "    </tr>\n",
              "    <tr>\n",
              "      <th>49995</th>\n",
              "      <td>40000</td>\n",
              "    </tr>\n",
              "    <tr>\n",
              "      <th>49996</th>\n",
              "      <td>54000</td>\n",
              "    </tr>\n",
              "    <tr>\n",
              "      <th>49997</th>\n",
              "      <td>50000</td>\n",
              "    </tr>\n",
              "    <tr>\n",
              "      <th>49998</th>\n",
              "      <td>82000</td>\n",
              "    </tr>\n",
              "    <tr>\n",
              "      <th>49999</th>\n",
              "      <td>70000</td>\n",
              "    </tr>\n",
              "  </tbody>\n",
              "</table>\n",
              "<p>50000 rows × 1 columns</p>\n",
              "</div>"
            ],
            "text/plain": [
              "            x\n",
              "0       67000\n",
              "1       52000\n",
              "2      100000\n",
              "3       78762\n",
              "4       37041\n",
              "...       ...\n",
              "49995   40000\n",
              "49996   54000\n",
              "49997   50000\n",
              "49998   82000\n",
              "49999   70000\n",
              "\n",
              "[50000 rows x 1 columns]"
            ]
          },
          "metadata": {
            "tags": []
          },
          "execution_count": 16
        }
      ]
    },
    {
      "cell_type": "code",
      "metadata": {
        "colab": {
          "base_uri": "https://localhost:8080/"
        },
        "id": "fUD0dHST-iD6",
        "outputId": "b5ece1bd-46fb-410e-c349-9d7829e00441"
      },
      "source": [
        "loans_income = pd.read_csv('/content/loans_income.csv', squeeze=True)\n",
        "\n",
        "sample_data = pd.DataFrame({\n",
        "    'income': loans_income.sample(100),\n",
        "    'type': 'Data',\n",
        "})\n",
        "\n",
        "sample_mean_05 = pd.DataFrame({\n",
        "    'income': [loans_income.sample(5).mean() for _ in range(100)],\n",
        "    'type': 'Mean of 5',\n",
        "})\n",
        "\n",
        "sample_mean_20 = pd.DataFrame({\n",
        "    'income': [loans_income.sample(20).mean() for _ in range(100)],\n",
        "    'type': 'Mean of 20',\n",
        "})\n",
        "\n",
        "results = pd.concat([sample_data, sample_mean_05, sample_mean_20])\n",
        "print(results.head())\n"
      ],
      "execution_count": 18,
      "outputs": [
        {
          "output_type": "stream",
          "text": [
            "        income  type\n",
            "22095  70080.0  Data\n",
            "23686  15500.0  Data\n",
            "25059  65000.0  Data\n",
            "9695   98000.0  Data\n",
            "13993  65000.0  Data\n"
          ],
          "name": "stdout"
        }
      ]
    },
    {
      "cell_type": "code",
      "metadata": {
        "colab": {
          "base_uri": "https://localhost:8080/",
          "height": 441
        },
        "id": "9BQlHi3b-s8n",
        "outputId": "63ff1f21-0aa4-4a53-e4f7-fd202a2a4fe8"
      },
      "source": [
        "g = sns.FacetGrid(results, col='type', col_wrap=1, \n",
        "                  height=2, aspect=2)\n",
        "g.map(plt.hist, 'income', range=[0, 200000], bins=40)\n",
        "g.set_axis_labels('Income', 'Count')\n",
        "g.set_titles('{col_name}')\n",
        "\n",
        "plt.tight_layout()\n",
        "plt.show()\n"
      ],
      "execution_count": 19,
      "outputs": [
        {
          "output_type": "display_data",
          "data": {
            "image/png": "[encoded data removed]",
            "text/plain": [
              "<Figure size 288x432 with 3 Axes>"
            ]
          },
          "metadata": {
            "tags": [],
            "needs_background": "light"
          }
        }
      ]
    },
    {
      "cell_type": "markdown",
      "metadata": {
        "id": "-5dqaFOs-z-a"
      },
      "source": [
        "Bootstrap"
      ]
    },
    {
      "cell_type": "code",
      "metadata": {
        "colab": {
          "base_uri": "https://localhost:8080/"
        },
        "id": "DYYMzuEn-vzq",
        "outputId": "8c8577cd-c7f6-4c7e-988f-9cd158843556"
      },
      "source": [
        "results = []\n",
        "for nrepeat in range(1000):\n",
        "    sample = resample(loans_income)\n",
        "    results.append(sample.median())\n",
        "results = pd.Series(results)\n",
        "print('Bootstrap Statistics:')\n",
        "print(f'original: {loans_income.median()}')\n",
        "print(f'bias: {results.mean() - loans_income.median()}')\n",
        "print(f'std. error: {results.std()}')\n"
      ],
      "execution_count": 20,
      "outputs": [
        {
          "output_type": "stream",
          "text": [
            "Bootstrap Statistics:\n",
            "original: 62000.0\n",
            "bias: -84.50850000000355\n",
            "std. error: 238.92970845697292\n"
          ],
          "name": "stdout"
        }
      ]
    },
    {
      "cell_type": "code",
      "metadata": {
        "colab": {
          "base_uri": "https://localhost:8080/",
          "height": 530
        },
        "id": "sVfhMF1q_Bn9",
        "outputId": "aacef8b2-96bf-484b-b781-5da0fb8f1985"
      },
      "source": [
        "#3. Central Limit Theorem (https://youtu.be/Ecs_JPe9gCM)\n",
        "import numpy as np\n",
        "import random\n",
        "\n",
        "\n",
        "# Create a parent distribution, from the gamma family\n",
        "shape, scale = 2., 2.  # mean=4, std=2*sqrt(2)\n",
        "s = np.random.gamma(shape, scale, 100000)\n",
        "print(np.mean(s))\n",
        "import matplotlib.pyplot as plt\n",
        "import scipy.special as sps\n",
        "plt.hist(s)\n",
        "plt.show()\n",
        "\n",
        "\n",
        "# The distribution of the means from the sampled groups is normally distributed\n",
        "samples = [ np.mean(random.choices(s, k=20)) for _ in range(1000) ]\n",
        "plt.hist(samples)\n",
        "plt.show()\n"
      ],
      "execution_count": 21,
      "outputs": [
        {
          "output_type": "stream",
          "text": [
            "3.9954599835069264\n"
          ],
          "name": "stdout"
        },
        {
          "output_type": "display_data",
          "data": {
            "image/png": "[encoded data removed]",
            "text/plain": [
              "<Figure size 432x288 with 1 Axes>"
            ]
          },
          "metadata": {
            "tags": [],
            "needs_background": "light"
          }
        },
        {
          "output_type": "display_data",
          "data": {
            "image/png": "[encoded data removed]",
            "text/plain": [
              "<Figure size 432x288 with 1 Axes>"
            ]
          },
          "metadata": {
            "tags": [],
            "needs_background": "light"
          }
        }
      ]
    },
    {
      "cell_type": "code",
      "metadata": {
        "colab": {
          "base_uri": "https://localhost:8080/"
        },
        "id": "ABRSUq1U_Hm9",
        "outputId": "45ffcccf-8eb6-46d5-fd84-395155f09c0d"
      },
      "source": [
        "#4. The Law of Large Numbers\n",
        "#(https://towardsdatascience.com/sampling-distributions-with-python-implementation-3f4555e1d450)\n",
        "#The law of large numbers states that as a sample size increases, the sample mean will get closer to the population mean. \n",
        "#Let’s check this with our example.\n",
        "\n",
        "#Below is an array that represents the puppies we have in our sample, where 1 \n",
        "#represents the puppies with blue eyes, and 0 represents the puppies with hazel eyes.\n",
        "\n",
        "np.random.seed(42)\n",
        "\n",
        "puppies = np.array([1,0,1,1,1,1,0,0,0,0,1,1,1,1,1,1,1,1,1,1])\n",
        "\n",
        "\n",
        "#Let's generate one more sample of size 100.\n",
        "np.random.choice(puppies, 100, replace=True)\n",
        "\n",
        "\n",
        "\n",
        "hundred_sample_props= []\n",
        "for i in range(10000):\n",
        "    sample = np.random.choice(puppies, 100, replace=True)\n",
        "    hundred_sample_props.append(sample.mean())\n",
        "hundred_sample_props = np.array(hundred_sample_props)\n",
        "\n",
        "np.random.choice(puppies, 5, replace=True).mean()\n",
        "np.random.choice(puppies, 20, replace=True).mean()\n",
        "np.random.choice(puppies, 100, replace=True).mean()\n"
      ],
      "execution_count": 22,
      "outputs": [
        {
          "output_type": "execute_result",
          "data": {
            "text/plain": [
              "0.8"
            ]
          },
          "metadata": {
            "tags": []
          },
          "execution_count": 22
        }
      ]
    },
    {
      "cell_type": "code",
      "metadata": {
        "colab": {
          "base_uri": "https://localhost:8080/"
        },
        "id": "b_pvmRgS_M5q",
        "outputId": "43146c23-6bbd-4496-c9f2-8a9ddb0d0705"
      },
      "source": [
        "#5. Plotting Estimates (Mean and Standard Deviation)\n",
        "#(https://www.geeksforgeeks.org/how-to-plot-mean-and-standard-deviation-in-pandas/)\n",
        "\n",
        "# Import the necessary libraries to read \n",
        "# dataset and work on that \n",
        "import pandas as pd \n",
        "import numpy as np \n",
        "import matplotlib.pyplot as plt \n",
        "  \n",
        "# Make the dataframe for evaluation on Errorbars \n",
        "df = pd.DataFrame({ \n",
        "    'insert': [0.0, 0.1, 0.3, 0.5, 1.0], \n",
        "    'mean': [0.009905, 0.45019, 0.376818, 0.801856, 0.643859], \n",
        "    'quality': ['good', 'good', 'poor', 'good', 'poor'],  \n",
        "    'std': [0.003662, 0.281895, 0.306806, 0.243288, 0.322378]}) \n",
        "  \n",
        "print(df)\n"
      ],
      "execution_count": 23,
      "outputs": [
        {
          "output_type": "stream",
          "text": [
            "   insert      mean quality       std\n",
            "0     0.0  0.009905    good  0.003662\n",
            "1     0.1  0.450190    good  0.281895\n",
            "2     0.3  0.376818    poor  0.306806\n",
            "3     0.5  0.801856    good  0.243288\n",
            "4     1.0  0.643859    poor  0.322378\n"
          ],
          "name": "stdout"
        }
      ]
    },
    {
      "cell_type": "code",
      "metadata": {
        "colab": {
          "base_uri": "https://localhost:8080/",
          "height": 279
        },
        "id": "MJCpMl2c_TA9",
        "outputId": "f2474f34-4b39-4af7-9c61-5ff9eaa98a2b"
      },
      "source": [
        "# Subplots as having two types of quality \n",
        "fig, ax = plt.subplots() \n",
        "  \n",
        "for key, group in df.groupby('quality'): \n",
        "    group.plot('insert', 'mean', yerr='std',  \n",
        "               label=key, ax=ax) \n",
        "plt.show()\n"
      ],
      "execution_count": 24,
      "outputs": [
        {
          "output_type": "display_data",
          "data": {
            "image/png": "[encoded data removed]",
            "text/plain": [
              "<Figure size 432x288 with 1 Axes>"
            ]
          },
          "metadata": {
            "tags": [],
            "needs_background": "light"
          }
        }
      ]
    },
    {
      "cell_type": "code",
      "metadata": {
        "colab": {
          "base_uri": "https://localhost:8080/",
          "height": 298
        },
        "id": "NDHjrwJX_YUM",
        "outputId": "62fc979d-f9b2-4a76-cab5-8585ba138ac6"
      },
      "source": [
        "# Groupby the quality column using aggreate \n",
        "# value of mean and std \n",
        "qual = df.groupby(\"quality\").agg([np.mean, np.std]) \n",
        "qual = qual['insert'] \n",
        "qual.plot(kind = \"barh\", y = \"mean\", legend = False, \n",
        "\t\txerr = \"std\", title = \"Quality\", color='green')\n"
      ],
      "execution_count": 25,
      "outputs": [
        {
          "output_type": "execute_result",
          "data": {
            "text/plain": [
              "<matplotlib.axes._subplots.AxesSubplot at 0x7f8268dea590>"
            ]
          },
          "metadata": {
            "tags": []
          },
          "execution_count": 25
        },
        {
          "output_type": "display_data",
          "data": {
            "image/png": "[encoded data removed]",
            "text/plain": [
              "<Figure size 432x288 with 1 Axes>"
            ]
          },
          "metadata": {
            "tags": [],
            "needs_background": "light"
          }
        }
      ]
    },
    {
      "cell_type": "code",
      "metadata": {
        "colab": {
          "base_uri": "https://localhost:8080/"
        },
        "id": "8sPT1N2n_eNQ",
        "outputId": "cb1a92b7-97d4-414b-d56b-25796ffbe860"
      },
      "source": [
        "'''Inferential Statistics\n",
        "\n",
        " Calculating Expected Parameters (Mean and\n",
        "Standard Deviation)\n",
        "'''\n",
        "\n",
        "data=pd.read_csv('/content/loans_income.csv')\n",
        "\n",
        "\n",
        "# Compute the mean and standard deviation of the sample_distances\n",
        "sample_mean = np.mean(data)\n",
        "sample_stdev = np.std(data)\n",
        "print(\"mean\",sample_mean)\n",
        "print(\"standard deviation\",sample_stdev)\n",
        "\n",
        "# Use the sample mean and stdev as estimates of the population model parameters mu and sigma\n",
        "#population_model = gaussian_model(data, mu=sample_mean, sigma=sample_stdev)\n",
        "\n",
        "# Plot the model and data to see how they compare\n",
        "#fig = plot_data_and_model(data, population_model)\n"
      ],
      "execution_count": 27,
      "outputs": [
        {
          "output_type": "stream",
          "text": [
            "mean x    68760.51844\n",
            "dtype: float64\n",
            "standard deviation x    32871.706648\n",
            "dtype: float64\n"
          ],
          "name": "stdout"
        }
      ]
    },
    {
      "cell_type": "markdown",
      "metadata": {
        "id": "b8P6Zian_qY7"
      },
      "source": [
        "6.Confidence Interval\n",
        "\n",
        "A confidence interval, in statistics, refers to the probability that a population parameter will fall between a set of values for a certain proportion of times. Confidence intervals measure the degree of uncertainty or certainty in a sampling method.\n",
        "\n",
        "KEY TAKEAWAYS A confidence interval displays the probability that a parameter will fall between a pair of values around the mean. Confidence intervals measure the degree of uncertainty or certainty in a sampling method. They are most often constructed using confidence levels of 95% or 99%.\n",
        "\n",
        "DATA AND SAMPLING DISTRIBUTION\n"
      ]
    },
    {
      "cell_type": "code",
      "metadata": {
        "id": "kvWOEfz-_sAh"
      },
      "source": [
        "import pandas as pd\n",
        "import numpy as np\n",
        "from scipy import stats\n",
        "from sklearn.utils import resample\n",
        "\n",
        "import seaborn as sns\n",
        "import matplotlib.pylab as plt\n"
      ],
      "execution_count": 28,
      "outputs": []
    },
    {
      "cell_type": "markdown",
      "metadata": {
        "id": "LODCmQB4_7AT"
      },
      "source": [
        "5. Plotting Estimates (Mean and Standard Deviation)¶\n"
      ]
    },
    {
      "cell_type": "code",
      "metadata": {
        "colab": {
          "base_uri": "https://localhost:8080/"
        },
        "id": "8GHxPzC9_8GK",
        "outputId": "750defea-e0a5-408f-edbb-626d8d539b79"
      },
      "source": [
        "import pandas as pd \n",
        "import numpy as np \n",
        "import matplotlib.pyplot as plt \n",
        "  \n",
        "# Make the dataframe for evaluation on Errorbars \n",
        "df = pd.DataFrame({ \n",
        "    'insert': [0.0, 0.1, 0.3, 0.5, 1.0], \n",
        "    'mean': [0.009905, 0.45019, 0.376818, 0.801856, 0.643859], \n",
        "    'quality': ['good', 'good', 'poor', 'good', 'poor'],  \n",
        "    'std': [0.003662, 0.281895, 0.306806, 0.243288, 0.322378]}) \n",
        "  \n",
        "print(df)\n"
      ],
      "execution_count": 29,
      "outputs": [
        {
          "output_type": "stream",
          "text": [
            "   insert      mean quality       std\n",
            "0     0.0  0.009905    good  0.003662\n",
            "1     0.1  0.450190    good  0.281895\n",
            "2     0.3  0.376818    poor  0.306806\n",
            "3     0.5  0.801856    good  0.243288\n",
            "4     1.0  0.643859    poor  0.322378\n"
          ],
          "name": "stdout"
        }
      ]
    },
    {
      "cell_type": "code",
      "metadata": {
        "colab": {
          "base_uri": "https://localhost:8080/",
          "height": 279
        },
        "id": "7CJ8HK1PADf1",
        "outputId": "5566a5be-e37e-4b91-9075-7948585bd8f5"
      },
      "source": [
        "# Subplots as having two types of quality \n",
        "fig, ax = plt.subplots() \n",
        "  \n",
        "for key, group in df.groupby('quality'): \n",
        "    group.plot('insert', 'mean', yerr='std',  \n",
        "               label=key, ax=ax) \n",
        "plt.show()\n"
      ],
      "execution_count": 30,
      "outputs": [
        {
          "output_type": "display_data",
          "data": {
            "image/png": "[encoded data removed]",
            "text/plain": [
              "<Figure size 432x288 with 1 Axes>"
            ]
          },
          "metadata": {
            "tags": [],
            "needs_background": "light"
          }
        }
      ]
    },
    {
      "cell_type": "markdown",
      "metadata": {
        "id": "OX20ybtbAIfY"
      },
      "source": [
        "6. Defining Confidence Interval¶\n"
      ]
    },
    {
      "cell_type": "code",
      "metadata": {
        "id": "kmGsdwYFA7Ac"
      },
      "source": [
        "print(data.mean())\n",
        "np.random.seed(seed=3)  \n",
        "# create a sample of 20 loan income data\n",
        "sample20 = resample(data, n_samples=20, replace=False)\n",
        "print(sample20.mean())\n",
        "results = []\n",
        "for nrepeat in range(500):\n",
        "    sample = resample(sample20)\n",
        "    results.append(sample.mean())\n",
        "results = pd.Series(results)\n",
        "\n",
        "confidence_interval = list(results.quantile([0.05, 0.95]))\n",
        "ax = results.plot.hist(bins=30, figsize=(4, 3))\n",
        "ax.plot(confidence_interval, [55, 55], color='black')\n",
        "for x in confidence_interval:\n",
        "    ax.plot([x, x], [0, 65], color='black')\n",
        "    ax.text(x, 70, f'{x:.0f}', \n",
        "            horizontalalignment='center', verticalalignment='center')\n",
        "ax.text(sum(confidence_interval) / 2, 60, '90% interval',\n",
        "        horizontalalignment='center', verticalalignment='center')\n",
        "\n",
        "meanIncome = results.mean()\n",
        "ax.plot([meanIncome, meanIncome], [0, 50], color='black', linestyle='--')\n",
        "ax.text(meanIncome, 10, f'Mean: {meanIncome:.0f}',\n",
        "        bbox=dict(facecolor='white', edgecolor='white', alpha=0.5),\n",
        "        horizontalalignment='center', verticalalignment='center')\n",
        "ax.set_ylim(0, 80)\n",
        "ax.set_ylabel('Counts')\n",
        "\n",
        "plt.tight_layout()\n",
        "plt.show()\n"
      ],
      "execution_count": null,
      "outputs": []
    },
    {
      "cell_type": "code",
      "metadata": {
        "colab": {
          "base_uri": "https://localhost:8080/",
          "height": 279
        },
        "id": "tqtt0JyKAy4g",
        "outputId": "d57fffb0-584f-4757-ea39-24c4d5ba03d7"
      },
      "source": [
        "# Subplots as having two types of quality \n",
        "fig, ax = plt.subplots() \n",
        "  \n",
        "for key, group in df.groupby('quality'): \n",
        "    group.plot('insert', 'mean', yerr='std',  \n",
        "               label=key, ax=ax) \n",
        "plt.show()\n"
      ],
      "execution_count": 32,
      "outputs": [
        {
          "output_type": "display_data",
          "data": {
            "image/png": "[encoded data removed]",
            "text/plain": [
              "<Figure size 432x288 with 1 Axes>"
            ]
          },
          "metadata": {
            "tags": [],
            "needs_background": "light"
          }
        }
      ]
    },
    {
      "cell_type": "markdown",
      "metadata": {
        "id": "XpCnFKs5A-pH"
      },
      "source": [
        "Inferential statistics¶\n"
      ]
    },
    {
      "cell_type": "code",
      "metadata": {
        "colab": {
          "base_uri": "https://localhost:8080/"
        },
        "id": "tK7cXRi7BGW7",
        "outputId": "55913ed4-49fd-4ef5-dda4-66c73b92072f"
      },
      "source": [
        "data=pd.read_csv('/content/loans_income.csv')\n",
        "# Compute the mean and standard deviation of the sample_distances\n",
        "sample_mean = np.mean(data)\n",
        "sample_stdev = np.std(data)\n",
        "print(\"mean\",sample_mean)\n",
        "print(\"standard deviation\",sample_stdev)\n"
      ],
      "execution_count": 33,
      "outputs": [
        {
          "output_type": "stream",
          "text": [
            "mean x    68760.51844\n",
            "dtype: float64\n",
            "standard deviation x    32871.706648\n",
            "dtype: float64\n"
          ],
          "name": "stdout"
        }
      ]
    }
  ]
}