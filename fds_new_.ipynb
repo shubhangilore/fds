{
  "nbformat": 4,
  "nbformat_minor": 0,
  "metadata": {
    "colab": {
      "name": "fds new .ipynb",
      "provenance": [],
      "collapsed_sections": [],
      "mount_file_id": "1PtgjYXKYBL5cKNgis3ByZuq6IxSu9Spw",
      "authorship_tag": "ABX9TyMI9h+TiGSj7tqTb2174BzQ",
      "include_colab_link": true
    },
    "kernelspec": {
      "name": "python3",
      "display_name": "Python 3"
    },
    "language_info": {
      "name": "python"
    }
  },
  "cells": [
    {
      "cell_type": "markdown",
      "metadata": {
        "id": "view-in-github",
        "colab_type": "text"
      },
      "source": [
        "<a href=\"https://colab.research.google.com/github/shubhangilore/fds/blob/main/fds_new_.ipynb\" target=\"_parent\"><img src=\"https://colab.research.google.com/assets/colab-badge.svg\" alt=\"Open In Colab\"/></a>"
      ]
    },
    {
      "cell_type": "code",
      "metadata": {
        "colab": {
          "base_uri": "https://localhost:8080/"
        },
        "id": "NkfQdfgZeBiR",
        "outputId": "e0e0c81f-553a-4aea-e66a-04c9ba716405"
      },
      "source": [
        "# Write and Read data, to and from a CSV file\n",
        "import pandas as pd\n",
        "eid = ['E101','E102','E103','E104']\n",
        "fname = ['Shweta','Manisha','Madhu','Anita']\n",
        "lname= ['Subnis','Perdesi','Mali','Rai']\n",
        "deg =['ProjectEngineer','Tester','SeniorSoftwareEngineer','WebDeveloper']\n",
        "bsal = [40000,50000,60000,70000]\n",
        "edata = zip(eid,fname,lname,deg,bsal)\n",
        "df = pd.DataFrame(data=edata, columns=['Employee Id','First Name','LastName','Designation','Basic_Salary'])\n",
        "df.to_csv('edata.csv',index=None)\n",
        "pdf = pd.read_csv('edata.csv',index_col=None)\n",
        "print(pdf.to_string(index=False))"
      ],
      "execution_count": 46,
      "outputs": [
        {
          "output_type": "stream",
          "text": [
            "Employee Id First Name LastName             Designation  Basic_Salary\n",
            "       E101     Shweta   Subnis         ProjectEngineer         40000\n",
            "       E102    Manisha  Perdesi                  Tester         50000\n",
            "       E103      Madhu     Mali  SeniorSoftwareEngineer         60000\n",
            "       E104      Anita      Rai            WebDeveloper         70000\n"
          ],
          "name": "stdout"
        }
      ]
    },
    {
      "cell_type": "code",
      "metadata": {
        "colab": {
          "base_uri": "https://localhost:8080/"
        },
        "id": "3Ns6KqYxeYEZ",
        "outputId": "5bfee537-00b1-4b36-c78d-d7c4f2ec1c40"
      },
      "source": [
        "pip install xlsxwriter\n"
      ],
      "execution_count": 2,
      "outputs": [
        {
          "output_type": "stream",
          "text": [
            "Collecting xlsxwriter\n",
            "\u001b[?25l  Downloading https://files.pythonhosted.org/packages/6b/41/bf1aae04932d1eaffee1fc5f8b38ca47bbbf07d765129539bc4bcce1ce0c/XlsxWriter-1.3.7-py2.py3-none-any.whl (144kB)\n",
            "\r\u001b[K     |██▎                             | 10kB 16.0MB/s eta 0:00:01\r\u001b[K     |████▌                           | 20kB 21.7MB/s eta 0:00:01\r\u001b[K     |██████▉                         | 30kB 11.9MB/s eta 0:00:01\r\u001b[K     |█████████                       | 40kB 9.5MB/s eta 0:00:01\r\u001b[K     |███████████▎                    | 51kB 4.0MB/s eta 0:00:01\r\u001b[K     |█████████████▋                  | 61kB 4.6MB/s eta 0:00:01\r\u001b[K     |███████████████▉                | 71kB 4.8MB/s eta 0:00:01\r\u001b[K     |██████████████████▏             | 81kB 5.2MB/s eta 0:00:01\r\u001b[K     |████████████████████▍           | 92kB 5.5MB/s eta 0:00:01\r\u001b[K     |██████████████████████▋         | 102kB 5.8MB/s eta 0:00:01\r\u001b[K     |█████████████████████████       | 112kB 5.8MB/s eta 0:00:01\r\u001b[K     |███████████████████████████▏    | 122kB 5.8MB/s eta 0:00:01\r\u001b[K     |█████████████████████████████▌  | 133kB 5.8MB/s eta 0:00:01\r\u001b[K     |███████████████████████████████▊| 143kB 5.8MB/s eta 0:00:01\r\u001b[K     |████████████████████████████████| 153kB 5.8MB/s \n",
            "\u001b[?25hInstalling collected packages: xlsxwriter\n",
            "Successfully installed xlsxwriter-1.3.7\n"
          ],
          "name": "stdout"
        }
      ]
    },
    {
      "cell_type": "code",
      "metadata": {
        "colab": {
          "base_uri": "https://localhost:8080/"
        },
        "id": "G5lgpREGeeYB",
        "outputId": "55b1e194-df59-44ae-9c0b-9c5b464e0a4f"
      },
      "source": [
        "# Write and Read data, to and from an Excel file\n",
        "import pandas as pd\n",
        "import xlsxwriter\n",
        "eid = ['E101','E102','E103','E104']\n",
        "fname = ['Shweta','Manisha','Madhu','Anita']\n",
        "lname= ['Subnis','Perdesi','Mali','Rai']\n",
        "deg =['ProjectEngineer','Tester','SeniorSoftwareEngineer','WebDeveloper']\n",
        "bsal = [40000,50000,60000,70000]\n",
        "edata = zip(eid,fname,lname,deg,bsal)\n",
        "df = pd.DataFrame(data=edata, columns=['Employee Id','First Name','LastName','Designation','Basic_Salary'])\n",
        "writer = pd.ExcelWriter('edata.xlsx', engine='xlsxwriter')\n",
        "df.to_excel(writer, sheet_name='Sheet 1',index=False)\n",
        "writer.save()\n",
        "pdf = pd.read_excel('edata.xlsx',index_col=None)\n",
        "print(pdf.to_string(index=False))\n"
      ],
      "execution_count": 49,
      "outputs": [
        {
          "output_type": "stream",
          "text": [
            "Employee Id First Name LastName             Designation  Basic_Salary\n",
            "       E101     Shweta   Subnis         ProjectEngineer         40000\n",
            "       E102    Manisha  Perdesi                  Tester         50000\n",
            "       E103      Madhu     Mali  SeniorSoftwareEngineer         60000\n",
            "       E104      Anita      Rai            WebDeveloper         70000\n"
          ],
          "name": "stdout"
        }
      ]
    },
    {
      "cell_type": "code",
      "metadata": {
        "colab": {
          "base_uri": "https://localhost:8080/"
        },
        "id": "zkTueoCqfGH2",
        "outputId": "d80eb9ed-12e0-4b4d-a408-e67af324d43e"
      },
      "source": [
        "# Write and Read data, to and from SQL database\n",
        "import pandas as pd\n",
        "import sqlalchemy as sa\n",
        "import os\n",
        "import sqlite3 as lite\n",
        "import warnings\n",
        "eid = ['E101','E102','E103','E104']\n",
        "fname = ['Shweta','Manisha','Madhu','Anita']\n",
        "lname= ['Subnis','Perdesi','Mali','Rai']\n",
        "deg =['ProjectEngineer','Tester','SeniorSoftwareEngineer','WebDeveloper']\n",
        "bsal = [40000,50000,60000,70000]\n",
        "edata = zip(eid,fname,lname,deg,bsal)\n",
        "df = pd.DataFrame(data=edata, columns=['Employee Id','First Name','LastName','Designation','Basic_Salary'])\n",
        "db_file = r'employeedb.db'\n",
        "con = lite.connect(db_file)\n",
        "df.to_sql('employee', con, schema=None, if_exists='replace',\n",
        "index=True,\n",
        "index_label=None, chunksize=None, dtype=None)\n",
        "con.close()\n",
        "engine = sa.create_engine(r\"sqlite:///{}\" .format(db_file))\n",
        "sql = \"select name from sqlite_master where type = 'table';\"\n",
        "df = pd.read_sql(sql, engine)\n",
        "print(df.to_string(index=False),\"\\n\")\n",
        "sql = 'SELECT * from employee'\n",
        "edf = pd.read_sql(sql, engine)\n",
        "warnings.filterwarnings('ignore')\n",
        "print(edf.to_string(index=False))"
      ],
      "execution_count": 47,
      "outputs": [
        {
          "output_type": "stream",
          "text": [
            "     name\n",
            " employee \n",
            "\n",
            " index Employee Id First Name LastName             Designation  Basic_Salary\n",
            "     0        E101     Shweta   Subnis         ProjectEngineer         40000\n",
            "     1        E102    Manisha  Perdesi                  Tester         50000\n",
            "     2        E103      Madhu     Mali  SeniorSoftwareEngineer         60000\n",
            "     3        E104      Anita      Rai            WebDeveloper         70000\n"
          ],
          "name": "stdout"
        }
      ]
    },
    {
      "cell_type": "markdown",
      "metadata": {
        "id": "4UzjoD-vfSvg"
      },
      "source": [
        ""
      ]
    },
    {
      "cell_type": "markdown",
      "metadata": {
        "id": "FUv3_Tq7fSbg"
      },
      "source": [
        "Data Preprocessing (Data Preparation and Data Transformations)"
      ]
    },
    {
      "cell_type": "code",
      "metadata": {
        "colab": {
          "base_uri": "https://localhost:8080/",
          "height": 235
        },
        "id": "WUejQ7Iuk5IZ",
        "outputId": "f24dee47-931b-4da9-967f-b13146057569"
      },
      "source": [
        "#Merge Functions\n",
        "df1 = pd.DataFrame({'lkey': ['foo', 'bar', 'baz', 'foo'],'value': [1, 2, 3, 5]})\n",
        "df2 = pd.DataFrame({'rkey': ['foo', 'bar', 'baz', 'foo'],'value': [5, 6, 7, 8]})\n",
        "df1.merge(df2, left_on='lkey', right_on='rkey')"
      ],
      "execution_count": 11,
      "outputs": [
        {
          "output_type": "execute_result",
          "data": {
            "text/html": [
              "<div>\n",
              "<style scoped>\n",
              "    .dataframe tbody tr th:only-of-type {\n",
              "        vertical-align: middle;\n",
              "    }\n",
              "\n",
              "    .dataframe tbody tr th {\n",
              "        vertical-align: top;\n",
              "    }\n",
              "\n",
              "    .dataframe thead th {\n",
              "        text-align: right;\n",
              "    }\n",
              "</style>\n",
              "<table border=\"1\" class=\"dataframe\">\n",
              "  <thead>\n",
              "    <tr style=\"text-align: right;\">\n",
              "      <th></th>\n",
              "      <th>lkey</th>\n",
              "      <th>value_x</th>\n",
              "      <th>rkey</th>\n",
              "      <th>value_y</th>\n",
              "    </tr>\n",
              "  </thead>\n",
              "  <tbody>\n",
              "    <tr>\n",
              "      <th>0</th>\n",
              "      <td>foo</td>\n",
              "      <td>1</td>\n",
              "      <td>foo</td>\n",
              "      <td>5</td>\n",
              "    </tr>\n",
              "    <tr>\n",
              "      <th>1</th>\n",
              "      <td>foo</td>\n",
              "      <td>1</td>\n",
              "      <td>foo</td>\n",
              "      <td>8</td>\n",
              "    </tr>\n",
              "    <tr>\n",
              "      <th>2</th>\n",
              "      <td>foo</td>\n",
              "      <td>5</td>\n",
              "      <td>foo</td>\n",
              "      <td>5</td>\n",
              "    </tr>\n",
              "    <tr>\n",
              "      <th>3</th>\n",
              "      <td>foo</td>\n",
              "      <td>5</td>\n",
              "      <td>foo</td>\n",
              "      <td>8</td>\n",
              "    </tr>\n",
              "    <tr>\n",
              "      <th>4</th>\n",
              "      <td>bar</td>\n",
              "      <td>2</td>\n",
              "      <td>bar</td>\n",
              "      <td>6</td>\n",
              "    </tr>\n",
              "    <tr>\n",
              "      <th>5</th>\n",
              "      <td>baz</td>\n",
              "      <td>3</td>\n",
              "      <td>baz</td>\n",
              "      <td>7</td>\n",
              "    </tr>\n",
              "  </tbody>\n",
              "</table>\n",
              "</div>"
            ],
            "text/plain": [
              "  lkey  value_x rkey  value_y\n",
              "0  foo        1  foo        5\n",
              "1  foo        1  foo        8\n",
              "2  foo        5  foo        5\n",
              "3  foo        5  foo        8\n",
              "4  bar        2  bar        6\n",
              "5  baz        3  baz        7"
            ]
          },
          "metadata": {
            "tags": []
          },
          "execution_count": 11
        }
      ]
    },
    {
      "cell_type": "code",
      "metadata": {
        "colab": {
          "base_uri": "https://localhost:8080/",
          "height": 80
        },
        "id": "lCHP5DBjnhsg",
        "outputId": "c4d9023c-3993-49cf-e8b0-20b8098b89fe"
      },
      "source": [
        "#Missing Values\n",
        "df.isnull()"
      ],
      "execution_count": 30,
      "outputs": [
        {
          "output_type": "execute_result",
          "data": {
            "text/html": [
              "<div>\n",
              "<style scoped>\n",
              "    .dataframe tbody tr th:only-of-type {\n",
              "        vertical-align: middle;\n",
              "    }\n",
              "\n",
              "    .dataframe tbody tr th {\n",
              "        vertical-align: top;\n",
              "    }\n",
              "\n",
              "    .dataframe thead th {\n",
              "        text-align: right;\n",
              "    }\n",
              "</style>\n",
              "<table border=\"1\" class=\"dataframe\">\n",
              "  <thead>\n",
              "    <tr style=\"text-align: right;\">\n",
              "      <th></th>\n",
              "      <th>name</th>\n",
              "    </tr>\n",
              "  </thead>\n",
              "  <tbody>\n",
              "    <tr>\n",
              "      <th>0</th>\n",
              "      <td>False</td>\n",
              "    </tr>\n",
              "  </tbody>\n",
              "</table>\n",
              "</div>"
            ],
            "text/plain": [
              "    name\n",
              "0  False"
            ]
          },
          "metadata": {
            "tags": []
          },
          "execution_count": 30
        }
      ]
    },
    {
      "cell_type": "code",
      "metadata": {
        "colab": {
          "base_uri": "https://localhost:8080/",
          "height": 204
        },
        "id": "4iniH8t4n1Pk",
        "outputId": "b75d2d48-5cf1-45e9-8ab7-bf4817aaa837"
      },
      "source": [
        "#Groupby fuction\n",
        "df.groupby(['Designation']).mean()"
      ],
      "execution_count": 26,
      "outputs": [
        {
          "output_type": "execute_result",
          "data": {
            "text/html": [
              "<div>\n",
              "<style scoped>\n",
              "    .dataframe tbody tr th:only-of-type {\n",
              "        vertical-align: middle;\n",
              "    }\n",
              "\n",
              "    .dataframe tbody tr th {\n",
              "        vertical-align: top;\n",
              "    }\n",
              "\n",
              "    .dataframe thead th {\n",
              "        text-align: right;\n",
              "    }\n",
              "</style>\n",
              "<table border=\"1\" class=\"dataframe\">\n",
              "  <thead>\n",
              "    <tr style=\"text-align: right;\">\n",
              "      <th></th>\n",
              "      <th>Basic Salary</th>\n",
              "    </tr>\n",
              "    <tr>\n",
              "      <th>Designation</th>\n",
              "      <th></th>\n",
              "    </tr>\n",
              "  </thead>\n",
              "  <tbody>\n",
              "    <tr>\n",
              "      <th>ProjectEngineer</th>\n",
              "      <td>40000</td>\n",
              "    </tr>\n",
              "    <tr>\n",
              "      <th>SeniorSoftwareEngineer</th>\n",
              "      <td>60000</td>\n",
              "    </tr>\n",
              "    <tr>\n",
              "      <th>Tester</th>\n",
              "      <td>50000</td>\n",
              "    </tr>\n",
              "    <tr>\n",
              "      <th>WebDeveloper</th>\n",
              "      <td>70000</td>\n",
              "    </tr>\n",
              "  </tbody>\n",
              "</table>\n",
              "</div>"
            ],
            "text/plain": [
              "                        Basic Salary\n",
              "Designation                         \n",
              "ProjectEngineer                40000\n",
              "SeniorSoftwareEngineer         60000\n",
              "Tester                         50000\n",
              "WebDeveloper                   70000"
            ]
          },
          "metadata": {
            "tags": []
          },
          "execution_count": 26
        }
      ]
    },
    {
      "cell_type": "code",
      "metadata": {
        "colab": {
          "base_uri": "https://localhost:8080/",
          "height": 142
        },
        "id": "5PbM6vy-oDDJ",
        "outputId": "8f197cd6-a16f-4635-e16f-c80901a3c6ce"
      },
      "source": [
        "#Spply Functions\n",
        "import numpy as np\n",
        "num = pd.DataFrame([[4, 9]] * 3, columns=['A', 'B'])\n",
        "num.apply(np.sqrt)"
      ],
      "execution_count": 27,
      "outputs": [
        {
          "output_type": "execute_result",
          "data": {
            "text/html": [
              "<div>\n",
              "<style scoped>\n",
              "    .dataframe tbody tr th:only-of-type {\n",
              "        vertical-align: middle;\n",
              "    }\n",
              "\n",
              "    .dataframe tbody tr th {\n",
              "        vertical-align: top;\n",
              "    }\n",
              "\n",
              "    .dataframe thead th {\n",
              "        text-align: right;\n",
              "    }\n",
              "</style>\n",
              "<table border=\"1\" class=\"dataframe\">\n",
              "  <thead>\n",
              "    <tr style=\"text-align: right;\">\n",
              "      <th></th>\n",
              "      <th>A</th>\n",
              "      <th>B</th>\n",
              "    </tr>\n",
              "  </thead>\n",
              "  <tbody>\n",
              "    <tr>\n",
              "      <th>0</th>\n",
              "      <td>2.0</td>\n",
              "      <td>3.0</td>\n",
              "    </tr>\n",
              "    <tr>\n",
              "      <th>1</th>\n",
              "      <td>2.0</td>\n",
              "      <td>3.0</td>\n",
              "    </tr>\n",
              "    <tr>\n",
              "      <th>2</th>\n",
              "      <td>2.0</td>\n",
              "      <td>3.0</td>\n",
              "    </tr>\n",
              "  </tbody>\n",
              "</table>\n",
              "</div>"
            ],
            "text/plain": [
              "     A    B\n",
              "0  2.0  3.0\n",
              "1  2.0  3.0\n",
              "2  2.0  3.0"
            ]
          },
          "metadata": {
            "tags": []
          },
          "execution_count": 27
        }
      ]
    },
    {
      "cell_type": "code",
      "metadata": {
        "colab": {
          "base_uri": "https://localhost:8080/"
        },
        "id": "q9f2vzMkoHHR",
        "outputId": "7b6a7d5d-7e4c-41f6-8bfd-019a8ac2bdd1"
      },
      "source": [
        "##Descriptive Statistics\n",
        "print('Mean of salary',+df['Basic Salary'].mean())\n",
        "print('Median of salary',+df['Basic Salary'].median())\n",
        "print('Mode of salary',+df['Basic Salary'].mode())\n"
      ],
      "execution_count": 25,
      "outputs": [
        {
          "output_type": "stream",
          "text": [
            "Mean of salary 55000.0\n",
            "Median of salary 55000.0\n",
            "Mode of salary 0    40000\n",
            "1    50000\n",
            "2    60000\n",
            "3    70000\n",
            "dtype: int64\n"
          ],
          "name": "stdout"
        }
      ]
    },
    {
      "cell_type": "code",
      "metadata": {
        "colab": {
          "base_uri": "https://localhost:8080/"
        },
        "id": "0MJYkpLBoxIn",
        "outputId": "f6294dac-3775-4492-ed1d-064ebec70595"
      },
      "source": [
        "#Measures of Variability\n",
        "print('SD of salary',+df['Basic Salary'].std())\n",
        "print('Veriance of salary',+df['Basic Salary'].var())\n",
        "print('Min salary:',df['Basic Salary'].min(),'Maximum value is:',df['Basic Salary'].max(\n",
        "))\n"
      ],
      "execution_count": 36,
      "outputs": [
        {
          "output_type": "stream",
          "text": [
            "SD of salary 12909.944487358056\n",
            "Veriance of salary 166666666.66666666\n",
            "Min salary: 40000 Maximum value is: 70000\n"
          ],
          "name": "stdout"
        }
      ]
    },
    {
      "cell_type": "code",
      "metadata": {
        "colab": {
          "base_uri": "https://localhost:8080/"
        },
        "id": "bWhdJL3vpCv5",
        "outputId": "5a0a3442-2349-44ce-8251-32849cca8ad5"
      },
      "source": [
        "\"\"\"\n",
        "Skewness and Kurtosis\n",
        "Skewness is a measure of the symmetry of a distribution. The highest point of a distr\n",
        "ibution is its mode.\n",
        "Kurtosis is a statistical measure that defines how heavily the tails of a distributio\n",
        "n differ from the tails of a normal distribution.\n",
        "\"\"\"\n",
        "import seaborn as sns\n",
        "iris= sns.load_dataset(\"iris\")\n",
        "from scipy.stats import skew\n",
        "from scipy.stats import kurtosis\n",
        "sep_len_skew=skew(iris['sepal_length'])\n",
        "print(\"The skewness of column age is : \",sep_len_skew)\n",
        "#kurtosis\n",
        "sep_len_kur=kurtosis(iris['sepal_length'])\n",
        "print(\"The kurtosi of column age is : \",sep_len_kur)\n"
      ],
      "execution_count": 38,
      "outputs": [
        {
          "output_type": "stream",
          "text": [
            "The skewness of column age is :  0.3117530585022963\n",
            "The kurtosi of column age is :  -0.5735679489249765\n"
          ],
          "name": "stdout"
        }
      ]
    },
    {
      "cell_type": "code",
      "metadata": {
        "colab": {
          "base_uri": "https://localhost:8080/"
        },
        "id": "wdB-DWtgpgPd",
        "outputId": "0bf8ee2e-cae5-45d5-f6ac-b275882d248a"
      },
      "source": [
        "#Range\n",
        "print(\"Range of basic salary\", df['Basic Salary'].max()-df['Basic Salary'].min())"
      ],
      "execution_count": 41,
      "outputs": [
        {
          "output_type": "stream",
          "text": [
            "Range of basic salary 30000\n"
          ],
          "name": "stdout"
        }
      ]
    },
    {
      "cell_type": "code",
      "metadata": {
        "colab": {
          "base_uri": "https://localhost:8080/"
        },
        "id": "TuLPJInupnfU",
        "outputId": "888ac350-bb4f-4973-a123-28729b0ddf40"
      },
      "source": [
        "#percentile\n",
        "print(\"50th percentile of Basic_Salary column is:\",np.percentile(df[\"Basic Salary\"],50))\n",
        "print(\"25th percentile of Basic_Salary column is:\",np.percentile(df[\"Basic Salary\"],25))\n",
        "print(\"75th percentile of Basic_Salary column is:\",np.percentile(df[\"Basic Salary\"],75))"
      ],
      "execution_count": 43,
      "outputs": [
        {
          "output_type": "stream",
          "text": [
            "50th percentile of Basic_Salary column is: 55000.0\n",
            "25th percentile of Basic_Salary column is: 47500.0\n",
            "75th percentile of Basic_Salary column is: 62500.0\n"
          ],
          "name": "stdout"
        }
      ]
    },
    {
      "cell_type": "markdown",
      "metadata": {
        "id": "GZhLsnFUqPns"
      },
      "source": [
        "Quantile"
      ]
    },
    {
      "cell_type": "code",
      "metadata": {
        "colab": {
          "base_uri": "https://localhost:8080/"
        },
        "id": "byEng9FxqGFj",
        "outputId": "a3afc89c-c8aa-4207-932d-db2f1beddade"
      },
      "source": [
        "print(\"Q2th quantile of Basic_Salary column is : \",np.quantile(df[\"Basic Salary\"],.50))\n",
        "print(\"Q1th quantile of Basic_Salary column is : \",np.quantile(df[\"Basic Salary\"],.25))\n",
        "print(\"Q3th quantile of Basic_Salary column is : \",np.quantile(df[\"Basic Salary\"],.75))\n"
      ],
      "execution_count": 45,
      "outputs": [
        {
          "output_type": "stream",
          "text": [
            "Q2th quantile of Basic_Salary column is :  55000.0\n",
            "Q1th quantile of Basic_Salary column is :  47500.0\n",
            "Q3th quantile of Basic_Salary column is :  62500.0\n"
          ],
          "name": "stdout"
        }
      ]
    },
    {
      "cell_type": "code",
      "metadata": {
        "colab": {
          "base_uri": "https://localhost:8080/",
          "height": 297
        },
        "id": "T9RiMiTiqSEt",
        "outputId": "27ee9b35-ba51-4060-d8d8-36a206c7de6e"
      },
      "source": [
        "#Boxplot\n",
        "sns.boxplot(df['Basic_Salary'])"
      ],
      "execution_count": 50,
      "outputs": [
        {
          "output_type": "execute_result",
          "data": {
            "text/plain": [
              "<matplotlib.axes._subplots.AxesSubplot at 0x7f8a93baf250>"
            ]
          },
          "metadata": {
            "tags": []
          },
          "execution_count": 50
        },
        {
          "output_type": "display_data",
          "data": {
            "image/png": "[encoded data removed]",
            "text/plain": [
              "<Figure size 432x288 with 1 Axes>"
            ]
          },
          "metadata": {
            "tags": [],
            "needs_background": "light"
          }
        }
      ]
    },
    {
      "cell_type": "markdown",
      "metadata": {
        "id": "GNtd7ljHqvA2"
      },
      "source": [
        "##Exploratory Data Analysis\n",
        "#Rectangular Data"
      ]
    },
    {
      "cell_type": "code",
      "metadata": {
        "colab": {
          "base_uri": "https://localhost:8080/"
        },
        "id": "CQtagNQSqrFD",
        "outputId": "b0f753a0-edec-45b8-f36d-e4bdf5a68bfd"
      },
      "source": [
        "# generate random integer values\n",
        "from numpy.random import seed\n",
        "from numpy.random import randint\n",
        "# seed random number generator\n",
        "seed(1)\n",
        "# generate some integers\n",
        "values = randint(0, 10, 20)\n",
        "print(values)\n"
      ],
      "execution_count": 54,
      "outputs": [
        {
          "output_type": "stream",
          "text": [
            "[5 8 9 5 0 0 1 7 6 9 2 4 5 2 4 2 4 7 7 9]\n"
          ],
          "name": "stdout"
        }
      ]
    },
    {
      "cell_type": "code",
      "metadata": {
        "colab": {
          "base_uri": "https://localhost:8080/",
          "height": 296
        },
        "id": "OxNz3YKWrNhZ",
        "outputId": "8b6539f3-9b50-4f7b-d0d2-eb3784833278"
      },
      "source": [
        "import matplotlib.pyplot as plt\n",
        "import random\n",
        "def random_variable_of_dice_roll():\n",
        "  return random.randint(1, 7)\n",
        "num_trials = range(100,10000, 10)\n",
        "avgs = []\n",
        "for num_trial in num_trials:\n",
        "  trials = []\n",
        "  for trial in range(1,num_trial):\n",
        "    trials.append( random_variable_of_dice_roll())\n",
        "  avgs.append(sum(trials)/float(num_trial))\n",
        "plt.plot(num_trials, avgs)\n",
        "plt.xlabel('Number of Trials')\n",
        "plt.ylabel(\"Average\")\n"
      ],
      "execution_count": 56,
      "outputs": [
        {
          "output_type": "execute_result",
          "data": {
            "text/plain": [
              "Text(0, 0.5, 'Average')"
            ]
          },
          "metadata": {
            "tags": []
          },
          "execution_count": 56
        },
        {
          "output_type": "display_data",
          "data": {
            "image/png": "[encoded data removed]",
            "text/plain": [
              "<Figure size 432x288 with 1 Axes>"
            ]
          },
          "metadata": {
            "tags": [],
            "needs_background": "light"
          }
        }
      ]
    },
    {
      "cell_type": "code",
      "metadata": {
        "colab": {
          "base_uri": "https://localhost:8080/",
          "height": 282
        },
        "id": "Pq0FXDIssGDp",
        "outputId": "1f29bc04-5d03-4e29-b382-9162d8a9c9b9"
      },
      "source": [
        "def normal_pdf(x, mu = 4, sigma = 2):\n",
        "  return (1./np.sqrt(2*3.14 * sigma**2)) * 2.718**(-(x-mu)**2 / (2. * sigma**2))\n",
        "x_values = np.linspace(3,20,100)\n",
        "y_values = [normal_pdf(x) for x in x_values]\n",
        "plt.plot(x_values, y_values)"
      ],
      "execution_count": 58,
      "outputs": [
        {
          "output_type": "execute_result",
          "data": {
            "text/plain": [
              "[<matplotlib.lines.Line2D at 0x7f8a935ee710>]"
            ]
          },
          "metadata": {
            "tags": []
          },
          "execution_count": 58
        },
        {
          "output_type": "display_data",
          "data": {
            "image/png": "[encoded data removed]",
            "text/plain": [
              "<Figure size 432x288 with 1 Axes>"
            ]
          },
          "metadata": {
            "tags": [],
            "needs_background": "light"
          }
        }
      ]
    },
    {
      "cell_type": "code",
      "metadata": {
        "id": "JlRNYW0Psuas"
      },
      "source": [
        ""
      ],
      "execution_count": null,
      "outputs": []
    }
  ]
}