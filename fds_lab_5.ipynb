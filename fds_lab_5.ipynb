{
  "nbformat": 4,
  "nbformat_minor": 0,
  "metadata": {
    "colab": {
      "name": "fds lab 5.ipynb",
      "provenance": [],
      "authorship_tag": "ABX9TyOx4+ns3Safe8WEfPKPdLws",
      "include_colab_link": true
    },
    "kernelspec": {
      "name": "python3",
      "display_name": "Python 3"
    }
  },
  "cells": [
    {
      "cell_type": "markdown",
      "metadata": {
        "id": "view-in-github",
        "colab_type": "text"
      },
      "source": [
        "<a href=\"https://colab.research.google.com/github/shubhangilore/fds/blob/main/fds_lab_5.ipynb\" target=\"_parent\"><img src=\"https://colab.research.google.com/assets/colab-badge.svg\" alt=\"Open In Colab\"/></a>"
      ]
    },
    {
      "cell_type": "code",
      "metadata": {
        "id": "DiFf54dj6ftK"
      },
      "source": [
        ""
      ],
      "execution_count": null,
      "outputs": []
    },
    {
      "cell_type": "code",
      "metadata": {
        "colab": {
          "base_uri": "https://localhost:8080/"
        },
        "id": "HxKCPFVW6_uc",
        "outputId": "707407b2-27eb-4a2c-9977-04e5cf1aeaba"
      },
      "source": [
        "from google.colab import drive\n",
        "drive.mount('/content/drive')"
      ],
      "execution_count": 2,
      "outputs": [
        {
          "output_type": "stream",
          "text": [
            "Mounted at /content/drive\n"
          ],
          "name": "stdout"
        }
      ]
    },
    {
      "cell_type": "code",
      "metadata": {
        "colab": {
          "base_uri": "https://localhost:8080/"
        },
        "id": "hwzMDp5v7gkP",
        "outputId": "b677c32e-3c58-4cb4-fd07-16e7986b46de"
      },
      "source": [
        "#Tossing a coin once and  probablity of getting head\r\n",
        "import numpy as np\r\n",
        "import random\r\n",
        "#Sample space={H,T}\r\n",
        "#Total outcome=2\r\n",
        "\r\n",
        "totalevent=2\r\n",
        "noofevent=1\r\n",
        "ph=noofevent/totalevent\r\n",
        "ph"
      ],
      "execution_count": 3,
      "outputs": [
        {
          "output_type": "execute_result",
          "data": {
            "text/plain": [
              "0.5"
            ]
          },
          "metadata": {
            "tags": []
          },
          "execution_count": 3
        }
      ]
    },
    {
      "cell_type": "code",
      "metadata": {
        "colab": {
          "base_uri": "https://localhost:8080/"
        },
        "id": "SgC-KdMZ-B5u",
        "outputId": "ce525feb-ae97-40ac-812e-50815fe2e15c"
      },
      "source": [
        "pt=1\r\n",
        "pt=1-ph\r\n",
        "pt"
      ],
      "execution_count": 7,
      "outputs": [
        {
          "output_type": "execute_result",
          "data": {
            "text/plain": [
              "0.5"
            ]
          },
          "metadata": {
            "tags": []
          },
          "execution_count": 7
        }
      ]
    },
    {
      "cell_type": "code",
      "metadata": {
        "id": "BNtTMNe0-Xpz"
      },
      "source": [
        "#Experimental\r\n",
        "def coin_trial():\r\n",
        "  heads=0\r\n",
        "  for i in range(100):\r\n",
        "    if random.random() <=0.5:\r\n",
        "\r\n",
        "      heads=heads+1\r\n",
        "    return heads\r\n"
      ],
      "execution_count": 9,
      "outputs": []
    },
    {
      "cell_type": "code",
      "metadata": {
        "colab": {
          "base_uri": "https://localhost:8080/"
        },
        "id": "4dT2XCjAA8be",
        "outputId": "1b08b350-cfd5-4469-cd47-1c751a25e59f"
      },
      "source": [
        "coin_trial()"
      ],
      "execution_count": 12,
      "outputs": [
        {
          "output_type": "execute_result",
          "data": {
            "text/plain": [
              "1"
            ]
          },
          "metadata": {
            "tags": []
          },
          "execution_count": 12
        }
      ]
    },
    {
      "cell_type": "code",
      "metadata": {
        "id": "eIDu7XrCAK6P"
      },
      "source": [
        "def RepeatExp(n):\r\n",
        "  trial=[]\r\n",
        "  for i in range(n):\r\n",
        "    trial.append(coin_trial())\r\n",
        "  return(sum(trial)/n)"
      ],
      "execution_count": 10,
      "outputs": []
    },
    {
      "cell_type": "code",
      "metadata": {
        "colab": {
          "base_uri": "https://localhost:8080/"
        },
        "id": "z-KybMK0BBIu",
        "outputId": "413a53fb-5b99-4e17-f0c3-5d0b3acb6e95"
      },
      "source": [
        "RepeatExp(6)"
      ],
      "execution_count": 14,
      "outputs": [
        {
          "output_type": "execute_result",
          "data": {
            "text/plain": [
              "0.6666666666666666"
            ]
          },
          "metadata": {
            "tags": []
          },
          "execution_count": 14
        }
      ]
    },
    {
      "cell_type": "code",
      "metadata": {
        "colab": {
          "base_uri": "https://localhost:8080/"
        },
        "id": "MolSVjIiBJVf",
        "outputId": "8637a05a-12f8-4419-f973-b955b8878bdb"
      },
      "source": [
        "RepeatExp(100000)"
      ],
      "execution_count": 18,
      "outputs": [
        {
          "output_type": "execute_result",
          "data": {
            "text/plain": [
              "0.50028"
            ]
          },
          "metadata": {
            "tags": []
          },
          "execution_count": 18
        }
      ]
    },
    {
      "cell_type": "markdown",
      "metadata": {
        "id": "MvOqwnOnEvDs"
      },
      "source": [
        "Roll the dice 25 times and find the probablity of occurance of 3\r\n"
      ]
    },
    {
      "cell_type": "markdown",
      "metadata": {
        "id": "uXnAwIDrEtMz"
      },
      "source": [
        ""
      ]
    },
    {
      "cell_type": "code",
      "metadata": {
        "id": "4E2gbAFuB0iT"
      },
      "source": [
        "noofroll=25\r\n",
        "#equal probability over all state\r\n",
        "probd=6*[(1/6)]\r\n",
        "\r\n",
        "def rollDi(N,prob=probd):\r\n",
        "  return np.random.choice(['1','2','3','4','5','6'],size=N,p=prob)\r\n"
      ],
      "execution_count": 23,
      "outputs": []
    },
    {
      "cell_type": "code",
      "metadata": {
        "id": "cz98TW_VC85M"
      },
      "source": [
        "rolls=rollDi(noofroll)"
      ],
      "execution_count": 24,
      "outputs": []
    },
    {
      "cell_type": "code",
      "metadata": {
        "colab": {
          "base_uri": "https://localhost:8080/"
        },
        "id": "JH5QvPHlDzU5",
        "outputId": "f87abd98-4bca-4a3c-8f2a-5ea6fb85a435"
      },
      "source": [
        "rolls"
      ],
      "execution_count": 25,
      "outputs": [
        {
          "output_type": "execute_result",
          "data": {
            "text/plain": [
              "array(['5', '4', '6', '1', '5', '6', '5', '1', '6', '4', '3', '1', '4',\n",
              "       '6', '3', '2', '6', '4', '4', '4', '3', '6', '6', '2', '4'],\n",
              "      dtype='<U1')"
            ]
          },
          "metadata": {
            "tags": []
          },
          "execution_count": 25
        }
      ]
    },
    {
      "cell_type": "code",
      "metadata": {
        "colab": {
          "base_uri": "https://localhost:8080/"
        },
        "id": "DP7ulP5mD4Gt",
        "outputId": "8521e914-471f-46b9-d54f-9289a273cf99"
      },
      "source": [
        "no3=np.sum(rolls=='3')\r\n",
        "no3"
      ],
      "execution_count": 26,
      "outputs": [
        {
          "output_type": "execute_result",
          "data": {
            "text/plain": [
              "3"
            ]
          },
          "metadata": {
            "tags": []
          },
          "execution_count": 26
        }
      ]
    },
    {
      "cell_type": "code",
      "metadata": {
        "colab": {
          "base_uri": "https://localhost:8080/"
        },
        "id": "gTagUXibERjx",
        "outputId": "206b86d2-68aa-4439-9356-a7af6eff826a"
      },
      "source": [
        "no3/noofroll\r\n"
      ],
      "execution_count": 29,
      "outputs": [
        {
          "output_type": "execute_result",
          "data": {
            "text/plain": [
              "0.12"
            ]
          },
          "metadata": {
            "tags": []
          },
          "execution_count": 29
        }
      ]
    },
    {
      "cell_type": "markdown",
      "metadata": {
        "id": "6z7dKk9EFHlK"
      },
      "source": [
        "Calculating the propabilty of single event\r\n",
        "In a standared deck of 52 cards,there are 4 aces what is the probabilty of drawing ace from a deck of cards"
      ]
    },
    {
      "cell_type": "markdown",
      "metadata": {
        "id": "YNBEoIAgC8IA"
      },
      "source": [
        ""
      ]
    },
    {
      "cell_type": "code",
      "metadata": {
        "colab": {
          "base_uri": "https://localhost:8080/"
        },
        "id": "XVqGIVkqFq3C",
        "outputId": "b79fb539-c833-42eb-fd04-99db4ef7c9eb"
      },
      "source": [
        "cards=52\r\n",
        "aces=4\r\n",
        "probaces=aces/cards\r\n",
        "probaces"
      ],
      "execution_count": 31,
      "outputs": [
        {
          "output_type": "execute_result",
          "data": {
            "text/plain": [
              "0.07692307692307693"
            ]
          },
          "metadata": {
            "tags": []
          },
          "execution_count": 31
        }
      ]
    },
    {
      "cell_type": "code",
      "metadata": {
        "colab": {
          "base_uri": "https://localhost:8080/"
        },
        "id": "am3-Ii-tGEsw",
        "outputId": "c38c15d4-6fb8-4cb4-f055-2668eaf18d78"
      },
      "source": [
        "round(probaces,2)"
      ],
      "execution_count": 32,
      "outputs": [
        {
          "output_type": "execute_result",
          "data": {
            "text/plain": [
              "0.08"
            ]
          },
          "metadata": {
            "tags": []
          },
          "execution_count": 32
        }
      ]
    },
    {
      "cell_type": "markdown",
      "metadata": {
        "id": "_PcvnsHUGUet"
      },
      "source": [
        "1)find the probablity of finding hearts.\r\n",
        "2)find the probablity of finding face cards\r\n",
        "3)find the probablity of finding king of hearts"
      ]
    },
    {
      "cell_type": "code",
      "metadata": {
        "id": "SeI02n8wGQNU"
      },
      "source": [
        "def eventprob(eventoutcomes,samplespace):\r\n",
        "  prob=(eventoutcomes/samplespace)*100\r\n",
        "  return round(prob,1)\r\n",
        "  \r\n"
      ],
      "execution_count": 33,
      "outputs": []
    },
    {
      "cell_type": "code",
      "metadata": {
        "colab": {
          "base_uri": "https://localhost:8080/",
          "height": 35
        },
        "id": "eVI5wm3LHQQQ",
        "outputId": "64bd0d03-ea34-4961-d8e6-e982e321cd6f"
      },
      "source": [
        "cards=52\r\n",
        "#outcomes\r\n",
        "heart=13\r\n",
        "probheart=eventprob(13,52)\r\n",
        "str(probheart) + '%'"
      ],
      "execution_count": 37,
      "outputs": [
        {
          "output_type": "execute_result",
          "data": {
            "application/vnd.google.colaboratory.intrinsic+json": {
              "type": "string"
            },
            "text/plain": [
              "'25.0%'"
            ]
          },
          "metadata": {
            "tags": []
          },
          "execution_count": 37
        }
      ]
    },
    {
      "cell_type": "code",
      "metadata": {
        "colab": {
          "base_uri": "https://localhost:8080/"
        },
        "id": "Wg9opu4CH1Fi",
        "outputId": "ce22668b-9688-476c-8849-71e9e8a12eaf"
      },
      "source": [
        "#finding the face cards\r\n",
        " number of face cards=12\r\n",
        "probface=eventprob(12,52)\r\n",
        "str(probface) + '%'"
      ],
      "execution_count": 35,
      "outputs": [
        {
          "output_type": "execute_result",
          "data": {
            "text/plain": [
              "23.1"
            ]
          },
          "metadata": {
            "tags": []
          },
          "execution_count": 35
        }
      ]
    },
    {
      "cell_type": "code",
      "metadata": {
        "colab": {
          "base_uri": "https://localhost:8080/",
          "height": 35
        },
        "id": "wugKyn9CIWyz",
        "outputId": "bcc2d977-ae5f-463b-d627-9589216f1143"
      },
      "source": [
        "#finding king of hearts\r\n",
        "numberofkingofhearts=1\r\n",
        "probkingofhearts=eventprob(1,52)\r\n",
        "str(probkingofhearts) + '%'"
      ],
      "execution_count": 40,
      "outputs": [
        {
          "output_type": "execute_result",
          "data": {
            "application/vnd.google.colaboratory.intrinsic+json": {
              "type": "string"
            },
            "text/plain": [
              "'1.9%'"
            ]
          },
          "metadata": {
            "tags": []
          },
          "execution_count": 40
        }
      ]
    },
    {
      "cell_type": "markdown",
      "metadata": {
        "id": "rCoy5tuEJjuu"
      },
      "source": [
        "carlo plays a college soccer.He makes a goal 65% of time he shoots,carlo is going to attepmts two goal in a raw in the next match\r\n",
        "\r\n",
        "\r\n"
      ]
    },
    {
      "cell_type": "markdown",
      "metadata": {
        "id": "mOCFD_W1JC1A"
      },
      "source": [
        ""
      ]
    },
    {
      "cell_type": "code",
      "metadata": {
        "id": "io7ZP4ffKGJt"
      },
      "source": [
        "A=The event carlos is successful in his first attempt=P(A)=0.65\r\n",
        "B=The event carlos is sucessful in his second attempt=P(B)=0.65\r\n",
        "carlos tends to shoot in streak\r\n",
        "The Probablity that he makes the second goal given that he made the first goal is 0.90\r\n",
        "a)what is the probablity that he makes both goals\r\n"
      ],
      "execution_count": null,
      "outputs": []
    },
    {
      "cell_type": "code",
      "metadata": {
        "colab": {
          "base_uri": "https://localhost:8080/"
        },
        "id": "9ugj4Z2oLgIp",
        "outputId": "3b668316-d2e6-4e4b-dc8e-c86f49582ceb"
      },
      "source": [
        "#P(A AND B)=P(B AND A)\r\n",
        "#P(B|A)=0.90\r\n",
        "#P(B AND A)=P(B|A)*P(A)=0.90*0.65=0.585\r\n",
        "\r\n",
        "PA=0.65\r\n",
        "PB=0.65\r\n",
        "PBA=0.90\r\n",
        "PBandA=PBA*PA\r\n",
        "PBandA"
      ],
      "execution_count": 41,
      "outputs": [
        {
          "output_type": "execute_result",
          "data": {
            "text/plain": [
              "0.5850000000000001"
            ]
          },
          "metadata": {
            "tags": []
          },
          "execution_count": 41
        }
      ]
    },
    {
      "cell_type": "code",
      "metadata": {
        "colab": {
          "base_uri": "https://localhost:8080/"
        },
        "id": "m7Tal1IwM9f5",
        "outputId": "4dc6b1bf-f95a-4785-ab25-7e3cf802ab3a"
      },
      "source": [
        "round(PBandA,3)"
      ],
      "execution_count": 42,
      "outputs": [
        {
          "output_type": "execute_result",
          "data": {
            "text/plain": [
              "0.585"
            ]
          },
          "metadata": {
            "tags": []
          },
          "execution_count": 42
        }
      ]
    },
    {
      "cell_type": "code",
      "metadata": {
        "colab": {
          "base_uri": "https://localhost:8080/"
        },
        "id": "HbywyxbJNJEp",
        "outputId": "bf0d0cfd-8acc-4190-9608-2b86d69b3006"
      },
      "source": [
        "#what is the probablity carlos makes either first and second goal\r\n",
        "#PAoB=P(A)+P(B)-P(A AND B)\r\n",
        "PAandB=PBandA\r\n",
        "PAandB=PA+PB-PBandA\r\n",
        "PAandB"
      ],
      "execution_count": 43,
      "outputs": [
        {
          "output_type": "execute_result",
          "data": {
            "text/plain": [
              "0.715"
            ]
          },
          "metadata": {
            "tags": []
          },
          "execution_count": 43
        }
      ]
    }
  ]
}